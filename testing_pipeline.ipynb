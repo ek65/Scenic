{
 "cells": [
  {
   "cell_type": "code",
   "execution_count": 1,
   "metadata": {
    "scrolled": true
   },
   "outputs": [
    {
     "name": "stderr",
     "output_type": "stream",
     "text": [
      "/Users/edwardkim/Desktop/Scenic_Query/Scenic/src/scenic/core/errors.py:160: UserWarning: unable to install sys.excepthook to format Scenic backtraces\n",
      "  warnings.warn('unable to install sys.excepthook to format Scenic backtraces')\n",
      "/Users/edwardkim/Desktop/Scenic_Query/Scenic/src/scenic/simulators/carla/model.scenic:56: UserWarning: the \"carla\" package is not installed; will not be able to run dynamic simulations\n",
      "  warnings.warn('the \"carla\" package is not installed; '\n"
     ]
    }
   ],
   "source": [
    "import os\n",
    "import scenic\n",
    "# scenic_script = \"./examples/carla/Carla_Challenge/carlaChallenge5.scenic\"\n",
    "scenic_script = \"./examples/carla/car.scenic\"\n",
    "scenario = scenic.scenarioFromFile(scenic_script)\n",
    "\n",
    "# from scenic.domains.driving.roads import ManeuverType, Network\n",
    "# map_path = '/Users/edwardkim/Desktop/Scenic-devel/examples/carla/../../tests/formats/opendrive/maps/CARLA/Town05.xodr'\n",
    "# network = Network.fromFile(map_path)"
   ]
  },
  {
   "cell_type": "code",
   "execution_count": 2,
   "metadata": {},
   "outputs": [
    {
     "name": "stdout",
     "output_type": "stream",
     "text": [
      "PointIn(<PolygonalRegion>).offsetRotated(<PiecewiseVectorField Union>.__getitem__(PointIn(<PolygonalRegion>)), (0 @ 7.25))\n"
     ]
    }
   ],
   "source": [
    "from scenic.core.vectors import OrientedVector, Vector\n",
    "import shapely.geometry\n",
    "import matplotlib.pyplot as plt\n",
    "\n",
    "print(scenario.objects[1].position)"
   ]
  },
  {
   "cell_type": "code",
   "execution_count": null,
   "metadata": {},
   "outputs": [],
   "source": [
    "# creating a ego's visible sector region to find the lane's triangles is too much optimization, \n",
    "# and can violate what is actually written in the scenic script\n",
    "from scenic.core.distributions import *\n",
    "from scenic.core.vectors import Vector\n",
    "from scenic.core.regions import SectorRegion\n",
    "import math\n",
    "\n",
    "ego_visibleDistance = 200\n",
    "ego_viewAngle = 135 #deg\n",
    "ego_labelled_position = Vector(0, 0)\n",
    "ego_labelled_heading = 0 #deg\n",
    "egoVisibleRegion = SectorRegion(ego_labelled_position, ego_visibleDistance, \\\n",
    "                                math.radians(ego_labelled_heading), math.radians(ego_viewAngle))\n",
    "\n",
    "# step 1: get rid of this optimization\n",
    "ego = scenario.egoObject\n",
    "smt_file_path = './test_smt_encoding.smt2'\n",
    "open(smt_file_path, 'w').close()\n",
    "writeSMTtoFile(smt_file_path, '(set-logic QF_NRA)')\n",
    "\n",
    "cached_variables = {}\n",
    "cached_variables['variables'] = []\n",
    "cached_variables['current_obj'] = (512.2440915204537, 1063.3189590311404)\n",
    "cached_variables['egoVisibleRegion'] = egoVisibleRegion.polygon\n",
    "\n",
    "\n",
    "# ego_pos_smt_var = ego.position.encodeToSMT(smt_file_path, cached_variables, debug = True)\n",
    "\n",
    "\n",
    "# step 2: create the testing pipeline above\n",
    "\n",
    "# step 3: add smt translation\n",
    "\n",
    "# step 4: testing with Scenic scripts and their samples"
   ]
  },
  {
   "cell_type": "code",
   "execution_count": null,
   "metadata": {
    "scrolled": true
   },
   "outputs": [],
   "source": [
    "objDep = {}\n",
    "scenario.resetConditionedObj()\n",
    "scenario.extractObjDependencies(objDep)\n",
    "scenario.analyzeDependencies(objDep, debug=True)\n",
    "count = 0\n",
    "for obj in scenario.objects:\n",
    "    print(\"obj\"+str(count)+ \" dependent_objs: \", objDep[obj]['dependent_objs_str'])\n",
    "    print(\"obj\"+str(count)+ \" jointly_dependent: \", objDep[obj]['jointly_dependent_str'])\n",
    "    count += 1\n",
    "\n",
    "output = scenario.computeObjsDependencyOrder(objDep, debug=True)\n",
    "print(output)"
   ]
  },
  {
   "cell_type": "code",
   "execution_count": null,
   "metadata": {
    "scrolled": true
   },
   "outputs": [],
   "source": [
    "def conditionObjLabel(obj):\n",
    "    \n",
    "\n",
    "def scenicQuery():\n",
    "    for objs in output:\n",
    "        # write a smt file for joint objects\n",
    "        for obj in objs:\n",
    "\n",
    "        # check satisfiability \n",
    "            # if not, then break & return False\n",
    "            # if true, condition obj with the label and move onto the next objs\n",
    "\n",
    "        "
   ]
  },
  {
   "cell_type": "code",
   "execution_count": null,
   "metadata": {
    "scrolled": true
   },
   "outputs": [],
   "source": [
    "print(cached_variables)"
   ]
  },
  {
   "cell_type": "code",
   "execution_count": null,
   "metadata": {},
   "outputs": [],
   "source": []
  },
  {
   "cell_type": "code",
   "execution_count": null,
   "metadata": {
    "scrolled": true
   },
   "outputs": [],
   "source": [
    "ego.position"
   ]
  },
  {
   "cell_type": "code",
   "execution_count": null,
   "metadata": {
    "scrolled": true
   },
   "outputs": [],
   "source": [
    "import shapely.geometry\n",
    "scenario.egoObject.position.region.options[0].polygon.contains(shapely.geometry.Point([0,0]))\n",
    "shapely.geometry.Point([0,0]).contains(shapely.geometry.Point([0,0]))"
   ]
  },
  {
   "cell_type": "code",
   "execution_count": null,
   "metadata": {
    "scrolled": true
   },
   "outputs": [],
   "source": []
  },
  {
   "cell_type": "code",
   "execution_count": null,
   "metadata": {},
   "outputs": [],
   "source": []
  },
  {
   "cell_type": "code",
   "execution_count": null,
   "metadata": {},
   "outputs": [],
   "source": []
  },
  {
   "cell_type": "code",
   "execution_count": null,
   "metadata": {
    "scrolled": true
   },
   "outputs": [],
   "source": []
  },
  {
   "cell_type": "code",
   "execution_count": null,
   "metadata": {
    "scrolled": true
   },
   "outputs": [],
   "source": []
  },
  {
   "cell_type": "code",
   "execution_count": null,
   "metadata": {},
   "outputs": [],
   "source": []
  },
  {
   "cell_type": "code",
   "execution_count": null,
   "metadata": {},
   "outputs": [],
   "source": []
  },
  {
   "cell_type": "code",
   "execution_count": null,
   "metadata": {},
   "outputs": [],
   "source": []
  },
  {
   "cell_type": "code",
   "execution_count": null,
   "metadata": {
    "scrolled": true
   },
   "outputs": [],
   "source": []
  },
  {
   "cell_type": "code",
   "execution_count": null,
   "metadata": {},
   "outputs": [],
   "source": []
  },
  {
   "cell_type": "code",
   "execution_count": null,
   "metadata": {
    "scrolled": true
   },
   "outputs": [],
   "source": []
  },
  {
   "cell_type": "code",
   "execution_count": null,
   "metadata": {},
   "outputs": [],
   "source": []
  },
  {
   "cell_type": "code",
   "execution_count": null,
   "metadata": {},
   "outputs": [],
   "source": []
  },
  {
   "cell_type": "code",
   "execution_count": null,
   "metadata": {
    "scrolled": true
   },
   "outputs": [],
   "source": []
  },
  {
   "cell_type": "code",
   "execution_count": null,
   "metadata": {},
   "outputs": [],
   "source": []
  },
  {
   "cell_type": "code",
   "execution_count": null,
   "metadata": {},
   "outputs": [],
   "source": []
  },
  {
   "cell_type": "code",
   "execution_count": null,
   "metadata": {},
   "outputs": [],
   "source": []
  }
 ],
 "metadata": {
  "kernelspec": {
   "display_name": "Python 3",
   "language": "python",
   "name": "python3"
  },
  "language_info": {
   "codemirror_mode": {
    "name": "ipython",
    "version": 3
   },
   "file_extension": ".py",
   "mimetype": "text/x-python",
   "name": "python",
   "nbconvert_exporter": "python",
   "pygments_lexer": "ipython3",
   "version": "3.8.2"
  }
 },
 "nbformat": 4,
 "nbformat_minor": 4
}
