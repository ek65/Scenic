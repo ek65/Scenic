{
 "cells": [
  {
   "cell_type": "code",
   "execution_count": 25,
   "metadata": {
    "scrolled": true
   },
   "outputs": [
    {
     "name": "stderr",
     "output_type": "stream",
     "text": [
      "/Users/edwardkim/Desktop/Scenic_Query/Scenic/src/scenic/simulators/carla/model.scenic:56: UserWarning: the \"carla\" package is not installed; will not be able to run dynamic simulations\n",
      "  warnings.warn('the \"carla\" package is not installed; '\n"
     ]
    }
   ],
   "source": [
    "import os\n",
    "import scenic\n",
    "# scenic_script = \"./examples/carla/Carla_Challenge/carlaChallenge5.scenic\"\n",
    "scenic_script = \"./examples/carla/test2.scenic\"\n",
    "scenario = scenic.scenarioFromFile(scenic_script)\n",
    "\n",
    "# from scenic.domains.driving.roads import ManeuverType, Network\n",
    "# map_path = '/Users/edwardkim/Desktop/Scenic-devel/examples/carla/../../tests/formats/opendrive/maps/CARLA/Town05.xodr'\n",
    "# network = Network.fromFile(map_path)"
   ]
  },
  {
   "cell_type": "code",
   "execution_count": 26,
   "metadata": {
    "scrolled": true
   },
   "outputs": [
    {
     "data": {
      "image/png": "[encoded data removed]",
      "text/plain": [
       "<Figure size 432x288 with 1 Axes>"
      ]
     },
     "metadata": {
      "needs_background": "light"
     },
     "output_type": "display_data"
    }
   ],
   "source": [
    "from scenic.core.vectors import OrientedVector, Vector\n",
    "import shapely.geometry\n",
    "import matplotlib.pyplot as plt\n",
    "from scenic.core.type_support import toVector\n",
    "from scenic.core.regions import PolygonalRegion, PointInRegionDistribution\n",
    "import os.path as path\n",
    "\n",
    "x = 23.76206016361125\n",
    "y = -201.16230930976596\n",
    "resetConditionedObj(scenario)\n",
    "options = scenario.egoObject.position.operands[0].dist.object.object\n",
    "region = shapely.geometry.Polygon([(0, -220), (50, -220), (50, -170), (0, -170)])\n",
    "\n",
    "valid = []\n",
    "for opt in options.options:\n",
    "    if region.intersection(opt.polygon) != shapely.geometry.Polygon():\n",
    "        plt.plot(*opt.polygon.exterior.coords.xy, 'b')\n",
    "    if opt.polygon.intersection(shapely.geometry.Point((x, y))) != shapely.geometry.Point():\n",
    "        valid.append(opt)\n",
    "plt.plot(x, y, 'ro')\n",
    "plt.ylim(y-50, y+50)\n",
    "plt.xlim(x-50, x+50)\n",
    "plt.show()"
   ]
  },
  {
   "cell_type": "code",
   "execution_count": 7,
   "metadata": {
    "scrolled": true
   },
   "outputs": [
    {
     "name": "stdout",
     "output_type": "stream",
     "text": [
      "sampled position: 23.76206016361125 -201.16230930976596\n",
      "NOT FEASIBLE POSITION: (23.76206016361125, -201.16230930976596)\n",
      "False\n"
     ]
    }
   ],
   "source": [
    "\n",
    "from scenic.core.distributions import *\n",
    "from scenic.core.vectors import Vector\n",
    "from scenic.core.regions import SectorRegion\n",
    "import math\n",
    "import subprocess\n",
    "import os\n",
    "\n",
    "\n",
    "# TODO : need to handle jointly dependent objs as well\n",
    "def isPositionValid(obj, label, smt_file_path, ego_info, debug=False, falseTesting=False):\n",
    "    \n",
    "    # TODO : need to handle jointly dependent objs as well\n",
    "    if os.path.isfile(smt_file_path):\n",
    "        os.remove(smt_file_path)\n",
    "    \n",
    "    open(smt_file_path, 'w').close()\n",
    "    writeSMTtoFile(smt_file_path, '(set-logic QF_NRA)')\n",
    "\n",
    "    # Instantiate cached_variables dictionary\n",
    "    cached_variables = {}\n",
    "    cached_variables['variables'] = []\n",
    "    if not falseTesting:\n",
    "        x = label.position.x\n",
    "        y = label.position.y\n",
    "    else:\n",
    "        x = 23.76206016361125\n",
    "        y = -201.16230930976596\n",
    "        \n",
    "    # Create Ego's VisibleRegion\n",
    "    cached_variables['current_obj_pos'] = (x, y)\n",
    "    ego_labelled_position = Vector(x,y)\n",
    "    print(\"sampled position: \"+ str(x)+\" \"+ str(y))\n",
    "    ego_visibleDistance = ego_info['visibleDistance']\n",
    "    ego_viewAngle = ego_info['viewAngle']\n",
    "    ego_labelled_heading = ego_info['headingAngle']\n",
    "    egoVisibleRegion = SectorRegion(ego_labelled_position, ego_visibleDistance, \\\n",
    "                                    ego_labelled_heading, ego_viewAngle)\n",
    "    cached_variables['egoVisibleRegion'] = egoVisibleRegion.polygon\n",
    "    \n",
    "    # Encode object's position to SMT formula\n",
    "    pos_smt_var = obj.position.encodeToSMT(smt_file_path, cached_variables, debug = debug)\n",
    "\n",
    "    if pos_smt_var is None:\n",
    "        print(\"NOT FEASIBLE POSITION: \"+ str(cached_variables['current_obj_pos']))\n",
    "        return False\n",
    "\n",
    "    else:\n",
    "        (x_cond, y_cond) = vector_operation_smt(pos_smt_var, \"equal\", (str(x), str(y)))\n",
    "        writeSMTtoFile(smt_file_path, smt_assert(None, x_cond))\n",
    "        writeSMTtoFile(smt_file_path, smt_assert(None, y_cond))\n",
    "        writeSMTtoFile(smt_file_path, \"(check-sat)\")\n",
    "        writeSMTtoFile(smt_file_path, \"(exit)\")\n",
    "\n",
    "        if not debug:\n",
    "            if subprocess.call(\"./run_smt_encoding.sh\") == 1:\n",
    "                return True\n",
    "            else:\n",
    "                return False\n",
    "        else:\n",
    "            print(\"DEBUG MODE: NO OUTPUT WILL BE RETURNED\")\n",
    "            \n",
    "    return None\n",
    "\n",
    "\n",
    "ego_visibleDistance = 100 #meters\n",
    "ego_viewAngle = 135 #deg\n",
    "ego_sample = scenario.egoObject.sample()\n",
    "ego_info = {\n",
    "    'visibleDistance' : ego_visibleDistance,\n",
    "    'viewAngle' : math.radians(ego_viewAngle), #radians,\n",
    "    'headingAngle' : ego_sample.heading #radians\n",
    "}\n",
    "\n",
    "smt_file_path = './test_smt_encoding.smt2'\n",
    "resetConditionedObj(scenario)\n",
    "obj = scenario.egoObject\n",
    "label = obj.sample()\n",
    "print(\"label.position: \", label.position)\n",
    "print(isPositionValid(obj, label, smt_file_path, ego_info, debug=True, falseTesting=True))"
   ]
  },
  {
   "cell_type": "code",
   "execution_count": 13,
   "metadata": {
    "scrolled": true
   },
   "outputs": [
    {
     "data": {
      "text/plain": [
       "(31.44272246499648 @ 23.873027234601032)"
      ]
     },
     "execution_count": 13,
     "metadata": {},
     "output_type": "execute_result"
    }
   ],
   "source": [
    "label.position"
   ]
  },
  {
   "cell_type": "code",
   "execution_count": null,
   "metadata": {
    "scrolled": true
   },
   "outputs": [],
   "source": [
    "\n",
    "    "
   ]
  },
  {
   "cell_type": "code",
   "execution_count": null,
   "metadata": {},
   "outputs": [],
   "source": []
  },
  {
   "cell_type": "code",
   "execution_count": null,
   "metadata": {},
   "outputs": [],
   "source": []
  }
 ],
 "metadata": {
  "kernelspec": {
   "display_name": "Python 3",
   "language": "python",
   "name": "python3"
  },
  "language_info": {
   "codemirror_mode": {
    "name": "ipython",
    "version": 3
   },
   "file_extension": ".py",
   "mimetype": "text/x-python",
   "name": "python",
   "nbconvert_exporter": "python",
   "pygments_lexer": "ipython3",
   "version": "3.8.2"
  }
 },
 "nbformat": 4,
 "nbformat_minor": 4
}
