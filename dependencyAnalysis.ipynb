{
 "cells": [
  {
   "cell_type": "code",
   "execution_count": 1,
   "metadata": {
    "scrolled": true
   },
   "outputs": [
    {
     "name": "stderr",
     "output_type": "stream",
     "text": [
      "/Users/edwardkim/Desktop/Scenic_Query/Scenic/src/scenic/core/errors.py:160: UserWarning: unable to install sys.excepthook to format Scenic backtraces\n",
      "  warnings.warn('unable to install sys.excepthook to format Scenic backtraces')\n"
     ]
    }
   ],
   "source": [
    "import os\n",
    "import scenic\n",
    "\n",
    "# scenic_script = \"./examples/carla/ICCV_Scenic_Experiments/5_agent_scenario.scenic\"\n",
    "# # scenic_script = \"./examples/carla/dependencyAnalysisTest5.scenic\"\n",
    "# scenario = scenic.scenarioFromFile(scenic_script)"
   ]
  },
  {
   "cell_type": "code",
   "execution_count": 2,
   "metadata": {},
   "outputs": [],
   "source": [
    "### Dependency Analysis\n",
    "def cacheExprTreeNodes(attribute, nodeSet=None):\n",
    "    \"\"\"cache all the nodes of the input attribute's expression tree to the dictionary\"\"\"\n",
    "    if nodeSet is None:\n",
    "        nodeSet = set()\n",
    "    nodeSet.add(attribute)\n",
    "    if attribute._dependencies == ():\n",
    "        return nodeSet\n",
    "    for dep in attribute._dependencies:\n",
    "        cacheExprTreeNodes(dep, nodeSet)\n",
    "    return nodeSet\n",
    "\n",
    "def cacheAttributes(scenario, attributeList):\n",
    "    dictionary = {}\n",
    "    dictionary['objAttributes_names'] = []\n",
    "    dictionary['positionAttributes_names'] = []\n",
    "    dictionary['headingAttributes_names'] = []\n",
    "    \n",
    "    # cache all object attributes\n",
    "    for i in range(len(scenario.original_objects)):\n",
    "        obj = scenario.original_objects[i]\n",
    "        obj_name = 'obj'+str(i)\n",
    "        dictionary[obj_name] = {}\n",
    "        \n",
    "        for attribute in attributeList:\n",
    "            dictionary[obj_name][attribute] = {}\n",
    "            dictionary[obj_name][attribute]['self'] = getattr(obj, attribute)\n",
    "            dictionary[obj_name][attribute]['set'] = cacheExprTreeNodes(getattr(obj, attribute), None)\n",
    "            dictionary[obj_name][attribute]['intermediate_variables_set'] = []\n",
    "            dictionary[obj_name][attribute]['dependent_attribute_names'] = []\n",
    "            dictionary[obj_name][attribute]['jointly_dependent_attribute_names'] = []\n",
    "            dictionary[obj_name][attribute]['dependent_attributes_objs'] = set()\n",
    "            dictionary[obj_name][attribute]['jointly_dependent_attributes_objs'] = set()\n",
    "            dictionary['objAttributes_names'].append(obj_name+\"_\"+attribute)\n",
    "            if attribute == 'position':\n",
    "                dictionary['positionAttributes_names'].append(obj_name+\"_\"+attribute)\n",
    "            if attribute == 'heading':\n",
    "                dictionary['headingAttributes_names'].append(obj_name+\"_\"+attribute)\n",
    "                \n",
    "    return dictionary\n",
    "\n",
    "def checkDependenceOnAnotherAttribute(intersection, attr1_name, attr2_name, dictionary):\n",
    "    \"\"\" checks whether the two attr1 and attr2 are jointly dependent on an intermediate variable\n",
    "    or is both dependent on another attribute. \n",
    "    Output:\n",
    "    True, if attr1 and attr2 are \"dependent\" on another attribute, not intermediate variable\n",
    "    False, attr1 and attr2 are both \"jointly dependent\" on an intermediate variable\n",
    "    \"\"\"\n",
    "    [obj1_name, attr1] = attr1_name.split('_')\n",
    "    attr1_obj = dictionary[obj1_name][attr1]['self']\n",
    "    attr1_jointly_dep_attr_names = dictionary[obj1_name][attr1]['jointly_dependent_attribute_names']\n",
    "    [obj2_name, attr2] = attr2_name.split('_')\n",
    "    attr2_obj = dictionary[obj2_name][attr2]['self']\n",
    "    attr2_jointly_dep_attr_names = dictionary[obj2_name][attr2]['jointly_dependent_attribute_names']\n",
    "#     print(\"checkDependenceOnAnotherAttribute attr1_name: \", attr1_name)\n",
    "#     print(\"checkDependenceOnAnotherAttribute attr2_name: \", attr2_name)\n",
    "    original_intersection = intersection\n",
    "    \n",
    "    objAttributes_names = dictionary['objAttributes_names'] \n",
    "    for attr_name in objAttributes_names:\n",
    "        if attr_name == attr1_name:\n",
    "            continue\n",
    "        elif attr_name == attr2_name:\n",
    "            break\n",
    "        else:\n",
    "            [obj_name, attr] = attr_name.split('_')\n",
    "            attr_obj = dictionary[obj_name][attr]['self']\n",
    "            attr_depSet = dictionary[obj_name][attr]['dependent_attribute_names']\n",
    "            \n",
    "            if attr_obj in original_intersection and attr_name not in attr1_jointly_dep_attr_names \\\n",
    "                and attr_name not in attr2_jointly_dep_attr_names: \n",
    "#                 print(\"other attr_name in the intersection: \", attr_name)\n",
    "                attr_cachedSet = dictionary[obj_name][attr]['set']\n",
    "                original_intersection = original_intersection - attr_cachedSet\n",
    "#                 print(\"len(original_intersection): \", len(original_intersection))\n",
    "                if len(original_intersection) == 0:\n",
    "#                     print(\"returns True\")\n",
    "                    # the intersection is another attribute\n",
    "                    return True\n",
    "    return False\n",
    "        \n",
    "def findAttribute(other_attr_obj, attr_dict, dictionary):\n",
    "    for obj_attr in attr_dict['dependent_attribute_names']:\n",
    "        [obj, attr] = obj_attr.split(\"_\")\n",
    "        if other_attr_obj is dictionary[obj][attr]['self']:\n",
    "            return obj_attr\n",
    "    return None\n",
    "\n",
    "def checkIntermediateSetMembership(attr_obj, attrIntermediateList):\n",
    "    for intermediateSet in attrIntermediateList:\n",
    "        if attr_obj in intermediateSet:\n",
    "            return True\n",
    "    return False\n",
    "\n",
    "def analysis(objAttributes_names, dictionary):\n",
    "    for i in range(len(objAttributes_names)):\n",
    "        for j in range(len(objAttributes_names)):\n",
    "            if i < j:\n",
    "                attr1_name = objAttributes_names[i]\n",
    "                attr2_name = objAttributes_names[j]\n",
    "                [obj_name1, attr1] = attr1_name.split('_')\n",
    "                [obj_name2, attr2] = attr2_name.split('_')\n",
    "        \n",
    "                attribute1 = dictionary[obj_name1][attr1]\n",
    "                attribute2 = dictionary[obj_name2][attr2]\n",
    "                attr1_obj = attribute1['self']\n",
    "                attr2_obj = attribute2['self']\n",
    "                \n",
    "                set1 = attribute1['set']\n",
    "                set2 = attribute2['set']\n",
    "                intersection = set1.intersection(set2)\n",
    "                \n",
    "                if attr1_obj in intersection and attr1_obj not in attribute2['dependent_attributes_objs']:\n",
    "                    # attr2_obj is dependent on attr1_obj\n",
    "                    attribute2['dependent_attribute_names'].append(attr1_name)\n",
    "                    attribute2['dependent_attributes_objs'].add(attr1_obj)\n",
    "                elif attr2_obj in intersection and attr2_obj not in attribute1['dependent_attributes_objs']:\n",
    "                    # jointly_dependent case (e.g. depedendencyAnalysisTest4.scenic)\n",
    "                    if attr2_name not in attribute1['jointly_dependent_attribute_names']:\n",
    "                        attribute1['jointly_dependent_attribute_names'].append(attr2_name)\n",
    "                        attribute1['jointly_dependent_attributes_objs'].add(attr2_obj)     \n",
    "                        attribute1['intermediate_variables_set'].append(intersection)\n",
    "\n",
    "                    if attr1_name not in attribute2['jointly_dependent_attribute_names']:\n",
    "                        attribute2['jointly_dependent_attribute_names'].append(attr1_name)\n",
    "                        attribute2['jointly_dependent_attributes_objs'].add(attr1_obj)\n",
    "                        attribute2['intermediate_variables_set'].append(intersection)\n",
    "                        \n",
    "                elif len(intersection) > 0 \\\n",
    "                    and attr1_obj not in intersection and attr2_obj not in intersection \\\n",
    "                    and not checkDependenceOnAnotherAttribute(intersection, attr1_name, attr2_name, dictionary):\n",
    "                    # the two attributes are jointly dependent (i.e. share intermediate variable(s))\n",
    "                    if attr2_name not in attribute1['jointly_dependent_attribute_names']:\n",
    "                        attribute1['jointly_dependent_attribute_names'].append(attr2_name)\n",
    "                        attribute1['jointly_dependent_attributes_objs'].add(attr2_obj)     \n",
    "                        attribute1['intermediate_variables_set'].append(intersection)\n",
    "                    \n",
    "                    if attr1_name not in attribute2['jointly_dependent_attribute_names']:\n",
    "                        attribute2['jointly_dependent_attribute_names'].append(attr1_name)\n",
    "                        attribute2['jointly_dependent_attributes_objs'].add(attr1_obj)\n",
    "                        attribute2['intermediate_variables_set'].append(intersection)\n",
    "\n",
    "                else:\n",
    "                    pass\n",
    "    return dictionary\n",
    "    \n",
    "def dependencyAnalysis(scenario, attributeList):\n",
    "    dictionary = cacheAttributes(scenario, attributeList)\n",
    "    dictionary['numberOfObjects'] = len(scenario.original_objects)\n",
    "    objAttributes_names = dictionary['objAttributes_names']\n",
    "    dictionary = analysis(objAttributes_names, dictionary)\n",
    "    return dictionary\n",
    "\n",
    "def sortDependency(dictionary, scenario):\n",
    "    output = []\n",
    "    covered_attributes = []\n",
    "    \n",
    "    for elem in dictionary['objAttributes_names']:\n",
    "        if elem in covered_attributes:\n",
    "            continue\n",
    "        covered_attributes.append(elem)\n",
    "        [obj_name, attr_name] = elem.split(\"_\")\n",
    "        joint_dep_set = dictionary[obj_name][attr_name]['jointly_dependent_attribute_names']\n",
    "        if len(joint_dep_set) > 0:\n",
    "            jointly_dependent_list = [elem]\n",
    "            \n",
    "            for j in joint_dep_set:\n",
    "                [j_obj_name, j_attr] = j.split(\"_\")\n",
    "                jointly_dependent_list.append(j)\n",
    "                covered_attributes.append(j)\n",
    "            output.append(jointly_dependent_list)\n",
    "        else:\n",
    "            output.append([elem])\n",
    "    return output"
   ]
  },
  {
   "cell_type": "code",
   "execution_count": 3,
   "metadata": {
    "scrolled": true
   },
   "outputs": [],
   "source": [
    "# ## Test Dependency Analysis\n",
    "\n",
    "# attributeList = ['position', 'heading']\n",
    "# d = dependencyAnalysis(scenario, attributeList)\n",
    "# print(sortDependency(d, scenario))"
   ]
  },
  {
   "cell_type": "code",
   "execution_count": 12,
   "metadata": {
    "scrolled": true
   },
   "outputs": [],
   "source": [
    "### SMT Translation Pipeline\n",
    "\n",
    "from scenic.core.regions import SectorRegion\n",
    "from scenic.core.vectors import OrientedVector, Vector\n",
    "from scenic.core.distributions import *\n",
    "from scenic.domains.driving.roads import Network\n",
    "from scenic.core.regions import PointInRegionDistribution\n",
    "from scenic.core.type_support import TypecheckedDistribution\n",
    "import subprocess\n",
    "import os\n",
    "\n",
    "def resetConditionedVar(obj):\n",
    "    obj._conditioned = obj\n",
    "    if (obj._dependencies is None):\n",
    "        return None\n",
    "    for dep in obj._dependencies:\n",
    "        resetConditionedVar(dep)\n",
    "    return None\n",
    "\n",
    "def resetScenarioDependency(scenario):\n",
    "    for obj in scenario.objects:\n",
    "        resetConditionedVar(obj.position)\n",
    "        resetConditionedVar(obj.heading)\n",
    "        \n",
    "def extractLabelAttribute(label, obj_index, attribute_name):\n",
    "    # Extract specific attribute from a label generated from a scenic program\n",
    "    return getattr(label.objects[obj_index], attribute_name)\n",
    "\n",
    "def initializeSMTFile(smt_file_path):\n",
    "    if os.path.isfile(smt_file_path):\n",
    "        os.remove(smt_file_path)\n",
    "    \n",
    "    open(smt_file_path, 'w').close()\n",
    "    writeSMTtoFile(smt_file_path, '(set-logic QF_NRA)')\n",
    "    \n",
    "def resetDictionary(cached_variables, regionAroundEgo, smt_file_path):\n",
    "    cached_variables.clear()\n",
    "    cached_variables['variables'] = []\n",
    "    cached_variables['regionAroundEgo'] = regionAroundEgo\n",
    "    cached_variables['regionAroundEgo_polygon'] = regionAroundEgo.polygon\n",
    "    cached_variables['smt_file_path'] = smt_file_path\n",
    "\n",
    "def translateAttributeExpressionTree(attribute_name, attr_obj, attr_label, cached_variables, \\\n",
    "                                   dictionary, debug=False):\n",
    "    \n",
    "    ## TODO: add error bound range to attributes\n",
    "    smt_file_path = cached_variables['smt_file_path']\n",
    "    obj_name, attr_type = attribute_name.split(\"_\")\n",
    "\n",
    "    # Encode the given attribute's expression tree\n",
    "    smt_var = attr_obj.encodeToSMT(smt_file_path, cached_variables, debug = debug)\n",
    "    \n",
    "    if attr_type == 'position':\n",
    "        assert(isinstance(attr_label, Vector))\n",
    "        (x_label, y_label) = (str(attr_label.x), str(attr_label.y))\n",
    "        (x_cond, y_cond) = vector_operation_smt((x_label, y_label), \"equal\", smt_var)\n",
    "        writeSMTtoFile(smt_file_path, smt_assert(None, smt_and(x_cond, y_cond)))\n",
    "    else:\n",
    "        writeSMTtoFile(smt_file_path, smt_assert(None, smt_equal(str(attr_label), smt_var)))\n",
    "            \n",
    "def conditionAttributes(jointlyDependentAttributeList, dictionary):\n",
    "    for attribute_name in jointlyDependentAttributeList:\n",
    "        obj_name, attr_name = attribute_name.split(\"_\")\n",
    "        obj_index = int(obj_name.split(\"obj\")[1])\n",
    "        attr_label = extractLabelAttribute(label, obj_index, attr_name)\n",
    "        attr_obj = dictionary[obj_name][attr_name]['self']\n",
    "        print(\"conditionAttributes attribute: \", attribute_name)\n",
    "        if isinstance(attr_label, float) or isinstance(attr_label, int):\n",
    "            attr_obj.conditionTo(Constant(attr_label))\n",
    "        elif isinstance(attr_obj, PointInRegionDistribution):\n",
    "            attr_obj.conditionTo(attr_label)\n",
    "            if isinstance(attr_obj.region, TypecheckedDistribution): \n",
    "                attr_obj.region.dist.conditionTo(attr_label)\n",
    "            else:\n",
    "                attr_obj.region.conditionTo(attr_label)\n",
    "        else:\n",
    "            attr_obj.conditionTo(attr_label)\n",
    "        \n",
    "def validateLabelElement(scenario, cached_variables, jointlyDependentAttributeList, dictionary, \\\n",
    "                         debug=False, falseTesting=False):\n",
    "    \n",
    "    ## translate jointly dependent attribute expression trees\n",
    "    for attribute_name in jointlyDependentAttributeList:\n",
    "        obj_name, attr_name = attribute_name.split(\"_\")\n",
    "        obj_index = int(obj_name.split(\"obj\")[1])\n",
    "        attr_label = extractLabelAttribute(label, obj_index, attr_name)\n",
    "        attr_obj = dictionary[obj_name][attr_name]['self']\n",
    "\n",
    "        translateAttributeExpressionTree(attribute_name, attr_obj, attr_label, cached_variables, \\\n",
    "                                          dictionary, debug)\n",
    "    \n",
    "    smt_file_path = cached_variables['smt_file_path']\n",
    "    writeSMTtoFile(smt_file_path, \"(check-sat)\")\n",
    "    writeSMTtoFile(smt_file_path, \"(exit)\")\n",
    "\n",
    "    if subprocess.call(\"./run_smt_encoding.sh\") == 1:\n",
    "        ## This means that jointly dependent attributes are all valid\n",
    "        ## so condition attributes \n",
    "#         conditionAttributes(jointlyDependentAttributeList, dictionary)\n",
    "        return True\n",
    "        \n",
    "    return False\n",
    "\n",
    "def validateLabel(scenario, label, map_path, map_source='carla', ego_visibleDistance = 50, ego_viewAngle = 360, \\\n",
    "                  smt_file_path='./test_smt_encoding.smt2', attributeList = ['position', 'heading'], \\\n",
    "                  debug = False):\n",
    "    #TODO: need to add object matching\n",
    "    \n",
    "    # Uncondition previously conditioned dependency objects\n",
    "    resetScenarioDependency(scenario)\n",
    "    \n",
    "    # Initialize smt file, if exists\n",
    "    initializeSMTFile(smt_file_path)\n",
    "    \n",
    "    # Create Ego's VisibleRegion\n",
    "    cached_variables = {}\n",
    "#     if map_source == 'carla':\n",
    "#         cached_variables['network'] = Network.fromFile(map_path, None)\n",
    "#     elif map_source == 'nuScenes':\n",
    "#         raise NotImplementedError\n",
    "#     else:\n",
    "#          raise NotImplementedError\n",
    "    cached_variables['smt_file_path'] = smt_file_path\n",
    "    cached_variables['variables'] = []\n",
    "    label_ego_pos = label.egoObject.position\n",
    "    label_ego_heading = label.egoObject.heading\n",
    "    regionAroundEgo = SectorRegion(label_ego_pos, ego_visibleDistance, label_ego_heading, \\\n",
    "                                    math.radians(ego_viewAngle))\n",
    "    cached_variables['regionAroundEgo'] = regionAroundEgo\n",
    "    cached_variables['regionAroundEgo_polygon'] = regionAroundEgo.polygon\n",
    "    dictionary = dependencyAnalysis(scenario, attributeList)\n",
    "    sortedDependencyList = sortDependency(dictionary, scenario)\n",
    "    print(\"sortedDependencyList: \", sortedDependencyList)\n",
    "    \n",
    "    for jointlyDependentAttributeList in sortedDependencyList:\n",
    "        print(\".........................validating : \", str(jointlyDependentAttributeList)+\".......................\")\n",
    "        if not validateLabelElement(scenario, cached_variables, jointlyDependentAttributeList, dictionary, debug):\n",
    "            print(\"NON-VALID ATTRIBUTES: \", jointlyDependentAttributeList)\n",
    "            return False\n",
    "        else: # condition attributes in jointlyDependentAttributeList\n",
    "            print(\".........................valid attribute: \", str(jointlyDependentAttributeList)+\".......................\")\n",
    "            conditionAttributes(jointlyDependentAttributeList, dictionary)\n",
    "            resetDictionary(cached_variables, regionAroundEgo, smt_file_path)\n",
    "    \n",
    "    ## Check Hard Constraint Satisfaction\n",
    "    if not scenario.checkRequirements():\n",
    "        return False\n",
    "    \n",
    "    return True"
   ]
  },
  {
   "cell_type": "code",
   "execution_count": null,
   "metadata": {
    "scrolled": true
   },
   "outputs": [
    {
     "name": "stderr",
     "output_type": "stream",
     "text": [
      "/Users/edwardkim/Desktop/Scenic_Query/Scenic/src/scenic/simulators/carla/model.scenic:56: UserWarning: the \"carla\" package is not installed; will not be able to run dynamic simulations\n",
      "  warnings.warn('the \"carla\" package is not installed; '\n"
     ]
    }
   ],
   "source": [
    "import os\n",
    "import scenic\n",
    "scenic_script = \"./examples/carla/ICCV_Scenic_Experiments/4_agent_scenario.scenic\"\n",
    "scenario = scenic.scenarioFromFile(scenic_script)\n",
    "map_path = '/Users/edwardkim/Desktop/Scenic_Query/Scenic/tests/formats/opendrive/maps/CARLA/Town05.xodr'\n",
    "map_source = 'carla'\n",
    "\n",
    "for i in range(1):\n",
    "    resetScenarioDependency(scenario)\n",
    "    sample = scenario.generateForQuery(verbosity=0)\n",
    "    label, _ = sample\n",
    "    if not validateLabel(scenario, label, map_path, map_source, debug=False):\n",
    "        print(\"NOT VALID LABEL\")\n",
    "        break\n",
    "    else:\n",
    "        print(\"label is valid: \", i)\n",
    "\n"
   ]
  },
  {
   "cell_type": "code",
   "execution_count": 6,
   "metadata": {
    "scrolled": false
   },
   "outputs": [
    {
     "name": "stdout",
     "output_type": "stream",
     "text": [
      "<class 'scenic.core.type_support.TypecheckedDistribution'>\n",
      "TypecheckedDistribution(TypecheckedDistribution(Options(<Road Road 0>, <Road Road 1>, <Road Road 2>, <Road Road 3>, <Road Road 4>, <Road Road 5>, <Road Road 6>, <Road Road 7>, <Road Road 8>, <Road Road 9>, <Road Road 10>, <Road Road 11>, <Road Road 12>, <Road Road 13>, <Road Road 14>, <Road Road 15>, <Road Road 16>, <Road Road 17>, <Road Road 18>, <Road Road 19>, <Road Road 20>, <Road Road 21>, <Road Road 22>, <Road Road 23>, <Road Road 24>, <Road Road 25>, <Road Road 26>, <Road Road 27>, <Road Road 28>, <Road Road 29>, <Road Road 30>, <Road Road 31>, <Road Road 32>, <Road Road 33>, <Road Road 34>, <Road Road 35>, <Road Road 36>, <Road Road 37>, <Road Road 38>, <Road Road 39>, <Road Road 40>, <Road Road 41>, <Road Road 42>, <Road Road 43>, <Road Road 44>, <Road Road 45>, <Road Road 46>, <Road Road 47>, <Road Road 48>, <Road Road 49>, <Road Road 50>, <Road Road 51>, <Road Road 52>).intersect.__call__(<SectorRegion>), <class 'scenic.core.regions.Region'>).orientation.__getitem__(PointIn(TypecheckedDistribution(Options(<Road Road 0>, <Road Road 1>, <Road Road 2>, <Road Road 3>, <Road Road 4>, <Road Road 5>, <Road Road 6>, <Road Road 7>, <Road Road 8>, <Road Road 9>, <Road Road 10>, <Road Road 11>, <Road Road 12>, <Road Road 13>, <Road Road 14>, <Road Road 15>, <Road Road 16>, <Road Road 17>, <Road Road 18>, <Road Road 19>, <Road Road 20>, <Road Road 21>, <Road Road 22>, <Road Road 23>, <Road Road 24>, <Road Road 25>, <Road Road 26>, <Road Road 27>, <Road Road 28>, <Road Road 29>, <Road Road 30>, <Road Road 31>, <Road Road 32>, <Road Road 33>, <Road Road 34>, <Road Road 35>, <Road Road 36>, <Road Road 37>, <Road Road 38>, <Road Road 39>, <Road Road 40>, <Road Road 41>, <Road Road 42>, <Road Road 43>, <Road Road 44>, <Road Road 45>, <Road Road 46>, <Road Road 47>, <Road Road 48>, <Road Road 49>, <Road Road 50>, <Road Road 51>, <Road Road 52>).intersect.__call__(<SectorRegion>), <class 'scenic.core.regions.Region'>))), <class 'float'>)\n"
     ]
    }
   ],
   "source": [
    "x = scenario.original_objects[1].heading\n",
    "# x = scenario.original_objects[1].position\n",
    "print(type(x))\n",
    "print(x)"
   ]
  },
  {
   "cell_type": "code",
   "execution_count": 7,
   "metadata": {
    "scrolled": true
   },
   "outputs": [
    {
     "name": "stdout",
     "output_type": "stream",
     "text": [
      "4\n"
     ]
    }
   ],
   "source": [
    "q = [1,2,3,4]\n",
    "z = q[0:2]\n",
    "print(q[-1])"
   ]
  },
  {
   "cell_type": "code",
   "execution_count": 8,
   "metadata": {},
   "outputs": [
    {
     "data": {
      "text/plain": [
       "\"\\nIssue1: ahead/behind, left/right of uses the same heading angle as the referenced\\n        (1) As a result, position & heading are jointly dependent\\n        ==> what if we do not allow joint dependency between position and heading?\\n        This assumes that we can decouple joint dependency between the two, if exists.\\n        Is this true? Yes\\n        ==> Limitation: if many there are many jointly dependent features all at once, it may not be feasible to solve\\n        \\n        (2) an obj can have its position be dependent on its heading because its heading is the same as the \\n        heading of another object to which the obj is depedent\\n        ==> is this only an issue with ego? because the ordering of the objects \\n        ==> ==> solution: just keep the original objects ordering\\n\\nIssue2: my assumption that jointly dependent and dependent relationships are disjoint is wrong\\n        (e.g. dependencyAnalysisTest4.scenic)\\n        ==> it's not possible to capture such case since the attribute contains the intermediate variable\\n        ==> another ordering process needs to be done within jointly dependent features based on dependence relations\\n\\nIssue3: Need to check the case when multiple attributes are dependent on another attributes\\n        (e.g. )\\n        \\n\\nSorting Approach\\nSince the objects are listed in the order the scenario is written, \\nthe order in which SMT translation is to be done stays intact\\nThe only issue now is to determine joint dependency\\n==> before adding to joint dependency, check whether the jointly dependent attribute is dependent on any of the\\nother jointly dependent attributes\\n\""
      ]
     },
     "execution_count": 8,
     "metadata": {},
     "output_type": "execute_result"
    }
   ],
   "source": [
    "\"\"\"\n",
    "Issue1: ahead/behind, left/right of uses the same heading angle as the referenced\n",
    "        (1) As a result, position & heading are jointly dependent\n",
    "        ==> what if we do not allow joint dependency between position and heading?\n",
    "        This assumes that we can decouple joint dependency between the two, if exists.\n",
    "        Is this true? Yes\n",
    "        ==> Limitation: if many there are many jointly dependent features all at once, it may not be feasible to solve\n",
    "        \n",
    "        (2) an obj can have its position be dependent on its heading because its heading is the same as the \n",
    "        heading of another object to which the obj is depedent\n",
    "        ==> is this only an issue with ego? because the ordering of the objects \n",
    "        ==> ==> solution: just keep the original objects ordering\n",
    "\n",
    "Issue2: my assumption that jointly dependent and dependent relationships are disjoint is wrong\n",
    "        (e.g. dependencyAnalysisTest4.scenic)\n",
    "        ==> it's not possible to capture such case since the attribute contains the intermediate variable\n",
    "        ==> another ordering process needs to be done within jointly dependent features based on dependence relations\n",
    "\n",
    "Issue3: Need to check the case when multiple attributes are dependent on another attributes\n",
    "        (e.g. )\n",
    "        \n",
    "\n",
    "Sorting Approach\n",
    "Since the objects are listed in the order the scenario is written, \n",
    "the order in which SMT translation is to be done stays intact\n",
    "The only issue now is to determine joint dependency\n",
    "==> before adding to joint dependency, check whether the jointly dependent attribute is dependent on any of the\n",
    "other jointly dependent attributes\n",
    "\"\"\""
   ]
  },
  {
   "cell_type": "code",
   "execution_count": null,
   "metadata": {},
   "outputs": [],
   "source": []
  },
  {
   "cell_type": "code",
   "execution_count": null,
   "metadata": {
    "scrolled": true
   },
   "outputs": [],
   "source": []
  },
  {
   "cell_type": "code",
   "execution_count": null,
   "metadata": {
    "scrolled": true
   },
   "outputs": [],
   "source": []
  },
  {
   "cell_type": "code",
   "execution_count": null,
   "metadata": {
    "scrolled": true
   },
   "outputs": [],
   "source": []
  },
  {
   "cell_type": "code",
   "execution_count": null,
   "metadata": {},
   "outputs": [],
   "source": []
  },
  {
   "cell_type": "code",
   "execution_count": null,
   "metadata": {},
   "outputs": [],
   "source": []
  },
  {
   "cell_type": "code",
   "execution_count": null,
   "metadata": {
    "scrolled": true
   },
   "outputs": [],
   "source": []
  },
  {
   "cell_type": "code",
   "execution_count": null,
   "metadata": {
    "scrolled": true
   },
   "outputs": [],
   "source": []
  },
  {
   "cell_type": "code",
   "execution_count": null,
   "metadata": {},
   "outputs": [],
   "source": []
  },
  {
   "cell_type": "code",
   "execution_count": null,
   "metadata": {},
   "outputs": [],
   "source": []
  },
  {
   "cell_type": "code",
   "execution_count": null,
   "metadata": {},
   "outputs": [],
   "source": []
  },
  {
   "cell_type": "code",
   "execution_count": null,
   "metadata": {
    "scrolled": true
   },
   "outputs": [],
   "source": []
  },
  {
   "cell_type": "code",
   "execution_count": null,
   "metadata": {},
   "outputs": [],
   "source": []
  },
  {
   "cell_type": "code",
   "execution_count": null,
   "metadata": {
    "scrolled": true
   },
   "outputs": [],
   "source": []
  },
  {
   "cell_type": "code",
   "execution_count": null,
   "metadata": {},
   "outputs": [],
   "source": []
  },
  {
   "cell_type": "code",
   "execution_count": null,
   "metadata": {},
   "outputs": [],
   "source": []
  },
  {
   "cell_type": "code",
   "execution_count": null,
   "metadata": {
    "scrolled": true
   },
   "outputs": [],
   "source": []
  },
  {
   "cell_type": "code",
   "execution_count": null,
   "metadata": {},
   "outputs": [],
   "source": []
  },
  {
   "cell_type": "code",
   "execution_count": null,
   "metadata": {},
   "outputs": [],
   "source": []
  },
  {
   "cell_type": "code",
   "execution_count": null,
   "metadata": {},
   "outputs": [],
   "source": []
  }
 ],
 "metadata": {
  "kernelspec": {
   "display_name": "Python 3",
   "language": "python",
   "name": "python3"
  },
  "language_info": {
   "codemirror_mode": {
    "name": "ipython",
    "version": 3
   },
   "file_extension": ".py",
   "mimetype": "text/x-python",
   "name": "python",
   "nbconvert_exporter": "python",
   "pygments_lexer": "ipython3",
   "version": "3.8.2"
  }
 },
 "nbformat": 4,
 "nbformat_minor": 4
}
