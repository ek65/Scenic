{
 "cells": [
  {
   "cell_type": "code",
   "execution_count": 1,
   "metadata": {
    "scrolled": true
   },
   "outputs": [
    {
     "name": "stderr",
     "output_type": "stream",
     "text": [
      "/Users/edwardkim/Desktop/Scenic_Query/Scenic/src/scenic/core/errors.py:160: UserWarning: unable to install sys.excepthook to format Scenic backtraces\n",
      "  warnings.warn('unable to install sys.excepthook to format Scenic backtraces')\n"
     ]
    }
   ],
   "source": [
    "import os\n",
    "import scenic\n",
    "\n",
    "# scenic_script = \"./examples/carla/ICCV_Scenic_Experiments/5_agent_scenario.scenic\"\n",
    "# # scenic_script = \"./examples/carla/dependencyAnalysisTest5.scenic\"\n",
    "# scenario = scenic.scenarioFromFile(scenic_script)"
   ]
  },
  {
   "cell_type": "code",
   "execution_count": 2,
   "metadata": {},
   "outputs": [],
   "source": [
    "### Dependency Analysis\n",
    "def cacheExprTreeNodes(attribute, nodeSet=None):\n",
    "    \"\"\"cache all the nodes of the input attribute's expression tree to the dictionary\"\"\"\n",
    "    if nodeSet is None:\n",
    "        nodeSet = set()\n",
    "    nodeSet.add(attribute)\n",
    "    if attribute._dependencies == ():\n",
    "        return nodeSet\n",
    "    for dep in attribute._dependencies:\n",
    "        cacheExprTreeNodes(dep, nodeSet)\n",
    "    return nodeSet\n",
    "\n",
    "def cacheAttributes(scenario, attributeList):\n",
    "    dictionary = {}\n",
    "    dictionary['objAttributes_names'] = []\n",
    "    dictionary['positionAttributes_names'] = []\n",
    "    dictionary['headingAttributes_names'] = []\n",
    "    \n",
    "    # cache all object attributes\n",
    "    for i in range(len(scenario.original_objects)):\n",
    "        obj = scenario.original_objects[i]\n",
    "        obj_name = 'obj'+str(i)\n",
    "        dictionary[obj_name] = {}\n",
    "        \n",
    "        for attribute in attributeList:\n",
    "            dictionary[obj_name][attribute] = {}\n",
    "            dictionary[obj_name][attribute]['self'] = getattr(obj, attribute)\n",
    "            dictionary[obj_name][attribute]['set'] = cacheExprTreeNodes(getattr(obj, attribute), None)\n",
    "            dictionary[obj_name][attribute]['intermediate_variables_set'] = []\n",
    "            dictionary[obj_name][attribute]['dependent_attribute_names'] = []\n",
    "            dictionary[obj_name][attribute]['jointly_dependent_attribute_names'] = []\n",
    "            dictionary[obj_name][attribute]['dependent_attributes_objs'] = set()\n",
    "            dictionary[obj_name][attribute]['jointly_dependent_attributes_objs'] = set()\n",
    "            dictionary['objAttributes_names'].append(obj_name+\"_\"+attribute)\n",
    "            if attribute == 'position':\n",
    "                dictionary['positionAttributes_names'].append(obj_name+\"_\"+attribute)\n",
    "            if attribute == 'heading':\n",
    "                dictionary['headingAttributes_names'].append(obj_name+\"_\"+attribute)\n",
    "                \n",
    "    return dictionary\n",
    "\n",
    "def checkDependenceOnAnotherAttribute(intersection, attr1_name, attr2_name, dictionary):\n",
    "    \"\"\" checks whether the two attr1 and attr2 are jointly dependent on an intermediate variable\n",
    "    or is both dependent on another attribute. \n",
    "    Output:\n",
    "    True, if attr1 and attr2 are \"dependent\" on another attribute, not intermediate variable\n",
    "    False, attr1 and attr2 are both \"jointly dependent\" on an intermediate variable\n",
    "    \"\"\"\n",
    "    [obj1_name, attr1] = attr1_name.split('_')\n",
    "    attr1_obj = dictionary[obj1_name][attr1]['self']\n",
    "    attr1_jointly_dep_attr_names = dictionary[obj1_name][attr1]['jointly_dependent_attribute_names']\n",
    "    [obj2_name, attr2] = attr2_name.split('_')\n",
    "    attr2_obj = dictionary[obj2_name][attr2]['self']\n",
    "    attr2_jointly_dep_attr_names = dictionary[obj2_name][attr2]['jointly_dependent_attribute_names']\n",
    "#     print(\"checkDependenceOnAnotherAttribute attr1_name: \", attr1_name)\n",
    "#     print(\"checkDependenceOnAnotherAttribute attr2_name: \", attr2_name)\n",
    "    original_intersection = intersection\n",
    "    \n",
    "    objAttributes_names = dictionary['objAttributes_names'] \n",
    "    for attr_name in objAttributes_names:\n",
    "        if attr_name == attr1_name:\n",
    "            continue\n",
    "        elif attr_name == attr2_name:\n",
    "            break\n",
    "        else:\n",
    "            [obj_name, attr] = attr_name.split('_')\n",
    "            attr_obj = dictionary[obj_name][attr]['self']\n",
    "            attr_depSet = dictionary[obj_name][attr]['dependent_attribute_names']\n",
    "            \n",
    "            if attr_obj in original_intersection and attr_name not in attr1_jointly_dep_attr_names \\\n",
    "                and attr_name not in attr2_jointly_dep_attr_names: \n",
    "#                 print(\"other attr_name in the intersection: \", attr_name)\n",
    "                attr_cachedSet = dictionary[obj_name][attr]['set']\n",
    "                original_intersection = original_intersection - attr_cachedSet\n",
    "#                 print(\"len(original_intersection): \", len(original_intersection))\n",
    "                if len(original_intersection) == 0:\n",
    "#                     print(\"returns True\")\n",
    "                    # the intersection is another attribute\n",
    "                    return True\n",
    "    return False\n",
    "        \n",
    "def findAttribute(other_attr_obj, attr_dict, dictionary):\n",
    "    for obj_attr in attr_dict['dependent_attribute_names']:\n",
    "        [obj, attr] = obj_attr.split(\"_\")\n",
    "        if other_attr_obj is dictionary[obj][attr]['self']:\n",
    "            return obj_attr\n",
    "    return None\n",
    "\n",
    "def checkIntermediateSetMembership(attr_obj, attrIntermediateList):\n",
    "    for intermediateSet in attrIntermediateList:\n",
    "        if attr_obj in intermediateSet:\n",
    "            return True\n",
    "    return False\n",
    "\n",
    "def analysis(objAttributes_names, dictionary):\n",
    "    for i in range(len(objAttributes_names)):\n",
    "        for j in range(len(objAttributes_names)):\n",
    "            if i < j:\n",
    "                attr1_name = objAttributes_names[i]\n",
    "                attr2_name = objAttributes_names[j]\n",
    "                [obj_name1, attr1] = attr1_name.split('_')\n",
    "                [obj_name2, attr2] = attr2_name.split('_')\n",
    "        \n",
    "                attribute1 = dictionary[obj_name1][attr1]\n",
    "                attribute2 = dictionary[obj_name2][attr2]\n",
    "                attr1_obj = attribute1['self']\n",
    "                attr2_obj = attribute2['self']\n",
    "                \n",
    "                set1 = attribute1['set']\n",
    "                set2 = attribute2['set']\n",
    "                intersection = set1.intersection(set2)\n",
    "                \n",
    "                if attr1_obj in intersection and attr1_obj not in attribute2['dependent_attributes_objs']:\n",
    "                    # attr2_obj is dependent on attr1_obj\n",
    "                    attribute2['dependent_attribute_names'].append(attr1_name)\n",
    "                    attribute2['dependent_attributes_objs'].add(attr1_obj)\n",
    "                elif attr2_obj in intersection and attr2_obj not in attribute1['dependent_attributes_objs']:\n",
    "                    # jointly_dependent case (e.g. depedendencyAnalysisTest4.scenic)\n",
    "                    if attr2_name not in attribute1['jointly_dependent_attribute_names']:\n",
    "                        attribute1['jointly_dependent_attribute_names'].append(attr2_name)\n",
    "                        attribute1['jointly_dependent_attributes_objs'].add(attr2_obj)     \n",
    "                        attribute1['intermediate_variables_set'].append(intersection)\n",
    "\n",
    "                    if attr1_name not in attribute2['jointly_dependent_attribute_names']:\n",
    "                        attribute2['jointly_dependent_attribute_names'].append(attr1_name)\n",
    "                        attribute2['jointly_dependent_attributes_objs'].add(attr1_obj)\n",
    "                        attribute2['intermediate_variables_set'].append(intersection)\n",
    "                        \n",
    "                elif len(intersection) > 0 \\\n",
    "                    and attr1_obj not in intersection and attr2_obj not in intersection \\\n",
    "                    and not checkDependenceOnAnotherAttribute(intersection, attr1_name, attr2_name, dictionary):\n",
    "                    # the two attributes are jointly dependent (i.e. share intermediate variable(s))\n",
    "                    if attr2_name not in attribute1['jointly_dependent_attribute_names']:\n",
    "                        attribute1['jointly_dependent_attribute_names'].append(attr2_name)\n",
    "                        attribute1['jointly_dependent_attributes_objs'].add(attr2_obj)     \n",
    "                        attribute1['intermediate_variables_set'].append(intersection)\n",
    "                    \n",
    "                    if attr1_name not in attribute2['jointly_dependent_attribute_names']:\n",
    "                        attribute2['jointly_dependent_attribute_names'].append(attr1_name)\n",
    "                        attribute2['jointly_dependent_attributes_objs'].add(attr1_obj)\n",
    "                        attribute2['intermediate_variables_set'].append(intersection)\n",
    "\n",
    "                else:\n",
    "                    pass\n",
    "    return dictionary\n",
    "    \n",
    "def dependencyAnalysis(scenario, attributeList):\n",
    "    dictionary = cacheAttributes(scenario, attributeList)\n",
    "    dictionary['numberOfObjects'] = len(scenario.original_objects)\n",
    "    objAttributes_names = dictionary['objAttributes_names']\n",
    "    dictionary = analysis(objAttributes_names, dictionary)\n",
    "    return dictionary\n",
    "\n",
    "def sortDependency(dictionary, scenario):\n",
    "    output = []\n",
    "    covered_attributes = []\n",
    "    \n",
    "    for elem in dictionary['objAttributes_names']:\n",
    "        if elem in covered_attributes:\n",
    "            continue\n",
    "        covered_attributes.append(elem)\n",
    "        [obj_name, attr_name] = elem.split(\"_\")\n",
    "        joint_dep_set = dictionary[obj_name][attr_name]['jointly_dependent_attribute_names']\n",
    "        if len(joint_dep_set) > 0:\n",
    "            jointly_dependent_list = [elem]\n",
    "            \n",
    "            for j in joint_dep_set:\n",
    "                [j_obj_name, j_attr] = j.split(\"_\")\n",
    "                jointly_dependent_list.append(j)\n",
    "                covered_attributes.append(j)\n",
    "            output.append(jointly_dependent_list)\n",
    "        else:\n",
    "            output.append([elem])\n",
    "    return output"
   ]
  },
  {
   "cell_type": "code",
   "execution_count": 3,
   "metadata": {
    "scrolled": true
   },
   "outputs": [],
   "source": [
    "# ## Test Dependency Analysis\n",
    "\n",
    "# attributeList = ['position', 'heading']\n",
    "# d = dependencyAnalysis(scenario, attributeList)\n",
    "# print(sortDependency(d, scenario))"
   ]
  },
  {
   "cell_type": "code",
   "execution_count": 4,
   "metadata": {
    "scrolled": true
   },
   "outputs": [],
   "source": [
    "### SMT Translation Pipeline\n",
    "\n",
    "from scenic.core.regions import SectorRegion\n",
    "from scenic.core.vectors import OrientedVector, Vector\n",
    "from scenic.core.distributions import *\n",
    "from scenic.domains.driving.roads import Network\n",
    "from scenic.core.regions import PointInRegionDistribution\n",
    "from scenic.core.type_support import TypecheckedDistribution\n",
    "import subprocess\n",
    "import os\n",
    "\n",
    "def resetConditionedVar(obj):\n",
    "    obj._conditioned = obj\n",
    "    if (obj._dependencies is None):\n",
    "        return None\n",
    "    for dep in obj._dependencies:\n",
    "        resetConditionedVar(dep)\n",
    "    return None\n",
    "\n",
    "def resetScenarioDependency(scenario):\n",
    "    for obj in scenario.objects:\n",
    "        resetConditionedVar(obj.position)\n",
    "        resetConditionedVar(obj.heading)\n",
    "        \n",
    "def extractLabelAttribute(label, obj_index, attribute_name):\n",
    "    # Extract specific attribute from a label generated from a scenic program\n",
    "    return getattr(label.objects[obj_index], attribute_name)\n",
    "\n",
    "def initializeSMTFile(smt_file_path):\n",
    "    if os.path.isfile(smt_file_path):\n",
    "        os.remove(smt_file_path)\n",
    "    \n",
    "    open(smt_file_path, 'w').close()\n",
    "    writeSMTtoFile(smt_file_path, '(set-logic QF_NRA)')\n",
    "    \n",
    "def resetDictionary(cached_variables, regionAroundEgo, smt_file_path):\n",
    "    cached_variables = {}\n",
    "    cached_variables['variables'] = []\n",
    "    cached_variables['regionAroundEgo'] = regionAroundEgo\n",
    "    cached_variables['smt_file_path'] = smt_file_path\n",
    "\n",
    "def translateAttributeExpressionTree(attribute_name, attr_obj, attr_label, cached_variables, \\\n",
    "                                   dictionary, debug=False):\n",
    "    \n",
    "    ## TODO: add error bound range to attributes\n",
    "    smt_file_path = cached_variables['smt_file_path']\n",
    "    obj_name, attr_type = attribute_name.split(\"_\")\n",
    "\n",
    "    # Encode the given attribute's expression tree\n",
    "    smt_var = attr_obj.encodeToSMT(smt_file_path, cached_variables, debug = debug)\n",
    "    \n",
    "    if attr_type == 'position':\n",
    "        assert(isinstance(attr_label, Vector))\n",
    "        (x_label, y_label) = (str(attr_label.x), str(attr_label.y))\n",
    "        (x_cond, y_cond) = vector_operation_smt((x_label, y_label), \"equal\", smt_var)\n",
    "        writeSMTtoFile(smt_file_path, smt_assert(None, smt_and(x_cond, y_cond)))\n",
    "    else:\n",
    "        writeSMTtoFile(smt_file_path, smt_assert(None, smt_equal(str(attr_label), smt_var)))\n",
    "            \n",
    "def conditionAttributes(jointlyDependentAttributeList, dictionary):\n",
    "    for attribute_name in jointlyDependentAttributeList:\n",
    "        obj_name, attr_name = attribute_name.split(\"_\")\n",
    "        obj_index = int(obj_name.split(\"obj\")[1])\n",
    "        attr_label = extractLabelAttribute(label, obj_index, attr_name)\n",
    "        attr_obj = dictionary[obj_name][attr_name]['self']\n",
    "        if isinstance(attr_label, float) or isinstance(attr_label, int):\n",
    "            print(\"conditionAttributes attribute: \", attribute_name)\n",
    "            attr_obj.conditionTo(Constant(attr_label))\n",
    "        elif isinstance(attr_obj, PointInRegionDistribution):\n",
    "            attr_obj.conditionTo(attr_label)\n",
    "            if isinstance(attr_obj.region, TypecheckedDistribution): \n",
    "                attr_obj.region.dist.conditionTo(attr_label)\n",
    "            else:\n",
    "                attr_obj.region.conditionTo(attr_label)\n",
    "        else:\n",
    "            attr_obj.conditionTo(attr_label)\n",
    "        \n",
    "def validateLabelElement(scenario, cached_variables, jointlyDependentAttributeList, dictionary, \\\n",
    "                         debug=False, falseTesting=False):\n",
    "    \n",
    "    ## translate jointly dependent attribute expression trees\n",
    "    for attribute_name in jointlyDependentAttributeList:\n",
    "        obj_name, attr_name = attribute_name.split(\"_\")\n",
    "        obj_index = int(obj_name.split(\"obj\")[1])\n",
    "        attr_label = extractLabelAttribute(label, obj_index, attr_name)\n",
    "        attr_obj = dictionary[obj_name][attr_name]['self']\n",
    "\n",
    "        translateAttributeExpressionTree(attribute_name, attr_obj, attr_label, cached_variables, \\\n",
    "                                          dictionary, debug)\n",
    "    \n",
    "    smt_file_path = cached_variables['smt_file_path']\n",
    "    writeSMTtoFile(smt_file_path, \"(check-sat)\")\n",
    "    writeSMTtoFile(smt_file_path, \"(exit)\")\n",
    "\n",
    "    if not debug:\n",
    "        if subprocess.call(\"./run_smt_encoding.sh\") == 1:\n",
    "            ## This means that jointly dependent attributes are all valid\n",
    "            ## so condition attributes \n",
    "            conditionAttributes(jointlyDependentAttributeList, dictionary)\n",
    "            return True\n",
    "        else:\n",
    "            return False\n",
    "        \n",
    "    print(\"DEBUG MODE: NO OUTPUT WILL BE RETURNED\")\n",
    "    return False\n",
    "\n",
    "def validateLabel(scenario, label, map_path, map_source='carla', ego_visibleDistance = 50, ego_viewAngle = 360, \\\n",
    "                  smt_file_path='./test_smt_encoding.smt2', attributeList = ['position', 'heading'], \\\n",
    "                  debug = False):\n",
    "    #TODO: need to add object matching\n",
    "    \n",
    "    # Uncondition previously conditioned dependency objects\n",
    "    resetScenarioDependency(scenario)\n",
    "    \n",
    "    # Initialize smt file, if exists\n",
    "    initializeSMTFile(smt_file_path)\n",
    "    \n",
    "    # Create Ego's VisibleRegion\n",
    "    cached_variables = {}\n",
    "    if map_source == 'carla':\n",
    "        cached_variables['network'] = Network.fromFile(map_path, None)\n",
    "    elif map_source == 'nuScenes':\n",
    "        raise NotImplementedError\n",
    "    else:\n",
    "         raise NotImplementedError\n",
    "    cached_variables['smt_file_path'] = smt_file_path\n",
    "    cached_variables['variables'] = []\n",
    "    label_ego_pos = label.egoObject.position\n",
    "    label_ego_heading = label.egoObject.heading\n",
    "    regionAroundEgo = SectorRegion(label_ego_pos, ego_visibleDistance, label_ego_heading, \\\n",
    "                                    math.radians(ego_viewAngle))\n",
    "    cached_variables['regionAroundEgo'] = regionAroundEgo\n",
    "    dictionary = dependencyAnalysis(scenario, attributeList)\n",
    "    sortedDependencyList = sortDependency(dictionary, scenario)\n",
    "    \n",
    "    for jointlyDependentAttributeList in sortedDependencyList:\n",
    "        print(\"validating : \", jointlyDependentAttributeList)\n",
    "        if not validateLabelElement(scenario, cached_variables, jointlyDependentAttributeList, dictionary, debug):\n",
    "            print(\"NON-VALID ATTRIBUTES: \", jointlyDependentAttributeList)\n",
    "            return False\n",
    "        else: # condition attributes in jointlyDependentAttributeList\n",
    "            print(\"valid attribute: \", jointlyDependentAttributeList)\n",
    "            conditionAttributes(jointlyDependentAttributeList, dictionary)\n",
    "            \n",
    "    ## Check Hard Constraint Satisfaction\n",
    "    if not scenario.checkRequirements():\n",
    "        return False\n",
    "    \n",
    "    return True"
   ]
  },
  {
   "cell_type": "code",
   "execution_count": 5,
   "metadata": {
    "scrolled": false
   },
   "outputs": [
    {
     "name": "stderr",
     "output_type": "stream",
     "text": [
      "/Users/edwardkim/Desktop/Scenic_Query/Scenic/src/scenic/simulators/carla/model.scenic:56: UserWarning: the \"carla\" package is not installed; will not be able to run dynamic simulations\n",
      "  warnings.warn('the \"carla\" package is not installed; '\n",
      "/Users/edwardkim/Desktop/Scenic_Query/Scenic/src/scenic/formats/opendrive/xodr_parser.py:671: UserWarning: ignoring shoulder in the middle of road 12\n",
      "  warnings.warn(f'ignoring {name} in the middle of road {self.id_}')\n",
      "/Users/edwardkim/Desktop/Scenic_Query/Scenic/src/scenic/formats/opendrive/xodr_parser.py:671: UserWarning: ignoring shoulder in the middle of road 34\n",
      "  warnings.warn(f'ignoring {name} in the middle of road {self.id_}')\n",
      "/Users/edwardkim/Desktop/Scenic_Query/Scenic/src/scenic/formats/opendrive/xodr_parser.py:671: UserWarning: ignoring shoulder in the middle of road 35\n",
      "  warnings.warn(f'ignoring {name} in the middle of road {self.id_}')\n",
      "/Users/edwardkim/Desktop/Scenic_Query/Scenic/src/scenic/formats/opendrive/xodr_parser.py:671: UserWarning: ignoring shoulder in the middle of road 36\n",
      "  warnings.warn(f'ignoring {name} in the middle of road {self.id_}')\n",
      "/Users/edwardkim/Desktop/Scenic_Query/Scenic/src/scenic/formats/opendrive/xodr_parser.py:671: UserWarning: ignoring shoulder in the middle of road 37\n",
      "  warnings.warn(f'ignoring {name} in the middle of road {self.id_}')\n",
      "/Users/edwardkim/Desktop/Scenic_Query/Scenic/src/scenic/formats/opendrive/xodr_parser.py:671: UserWarning: ignoring shoulder in the middle of road 38\n",
      "  warnings.warn(f'ignoring {name} in the middle of road {self.id_}')\n",
      "/Users/edwardkim/Desktop/Scenic_Query/Scenic/src/scenic/formats/opendrive/xodr_parser.py:671: UserWarning: ignoring shoulder in the middle of road 2034\n",
      "  warnings.warn(f'ignoring {name} in the middle of road {self.id_}')\n",
      "/Users/edwardkim/Desktop/Scenic_Query/Scenic/src/scenic/formats/opendrive/xodr_parser.py:671: UserWarning: ignoring shoulder in the middle of road 2343\n",
      "  warnings.warn(f'ignoring {name} in the middle of road {self.id_}')\n"
     ]
    },
    {
     "name": "stdout",
     "output_type": "stream",
     "text": [
      "validating :  ['obj0_position']\n",
      "in Options class, polygonalRegions:  [<shapely.geometry.polygon.Polygon object at 0x125e861f0>, <shapely.geometry.polygon.Polygon object at 0x125e70340>, <shapely.geometry.polygon.Polygon object at 0x125e49df0>, <shapely.geometry.polygon.Polygon object at 0x125e491c0>, <shapely.geometry.polygon.Polygon object at 0x126982e50>, <shapely.geometry.polygon.Polygon object at 0x126982490>, <shapely.geometry.polygon.Polygon object at 0x12697da30>, <shapely.geometry.polygon.Polygon object at 0x126978fd0>, <shapely.geometry.polygon.Polygon object at 0x127184250>, <shapely.geometry.polygon.Polygon object at 0x126f77760>, <shapely.geometry.polygon.Polygon object at 0x126f69cd0>, <shapely.geometry.polygon.Polygon object at 0x126f5f1f0>, <shapely.geometry.polygon.Polygon object at 0x1272306d0>, <shapely.geometry.polygon.Polygon object at 0x127221c40>, <shapely.geometry.polygon.Polygon object at 0x127218190>, <shapely.geometry.polygon.Polygon object at 0x1272066a0>, <shapely.geometry.polygon.Polygon object at 0x1273315b0>, <shapely.geometry.polygon.Polygon object at 0x12732ebb0>, <shapely.geometry.polygon.Polygon object at 0x12732e190>, <shapely.geometry.polygon.Polygon object at 0x127327730>, <shapely.geometry.polygon.Polygon object at 0x12737ed90>, <shapely.geometry.polygon.Polygon object at 0x12736feb0>, <shapely.geometry.polygon.Polygon object at 0x127361eb0>, <shapely.geometry.polygon.Polygon object at 0x127490fd0>, <shapely.geometry.polygon.Polygon object at 0x127490610>, <shapely.geometry.polygon.Polygon object at 0x127487c10>, <shapely.geometry.polygon.Polygon object at 0x1274cc850>, <shapely.geometry.polygon.Polygon object at 0x1274c5df0>, <shapely.geometry.polygon.Polygon object at 0x1274c53d0>, <shapely.geometry.polygon.Polygon object at 0x12751b970>, <shapely.geometry.polygon.Polygon object at 0x12750eaf0>, <shapely.geometry.polygon.Polygon object at 0x127500b50>, <shapely.geometry.polygon.Polygon object at 0x127dbaa90>, <shapely.geometry.polygon.Polygon object at 0x127dba0d0>, <shapely.geometry.polygon.Polygon object at 0x127db56d0>, <shapely.geometry.polygon.Polygon object at 0x127dafcd0>, <shapely.geometry.polygon.Polygon object at 0x129a56820>, <shapely.geometry.polygon.Polygon object at 0x129b13fa0>, <shapely.geometry.polygon.Polygon object at 0x129b74f70>, <shapely.geometry.polygon.Polygon object at 0x129befd00>, <shapely.geometry.polygon.Polygon object at 0x129be50a0>, <shapely.geometry.polygon.Polygon object at 0x12a45b850>, <shapely.geometry.polygon.Polygon object at 0x12a442bb0>, <shapely.geometry.polygon.Polygon object at 0x12a4ad940>, <shapely.geometry.polygon.Polygon object at 0x12a504bb0>, <shapely.geometry.polygon.Polygon object at 0x12a54ffa0>, <shapely.geometry.polygon.Polygon object at 0x12a616f10>, <shapely.geometry.polygon.Polygon object at 0x12a691550>, <shapely.geometry.polygon.Polygon object at 0x12be42820>, <shapely.geometry.polygon.Polygon object at 0x12bebd4c0>, <shapely.geometry.polygon.Polygon object at 0x12bf28850>, <shapely.geometry.polygon.Polygon object at 0x12bf91d30>, <shapely.geometry.polygon.Polygon object at 0x12bffa610>, <shapely.geometry.polygon.Polygon object at 0x12c049940>, <shapely.geometry.polygon.Polygon object at 0x12c0a2c70>, <shapely.geometry.polygon.Polygon object at 0x12c10d040>, <shapely.geometry.polygon.Polygon object at 0x12c1748e0>, <shapely.geometry.polygon.Polygon object at 0x12c1643d0>, <shapely.geometry.polygon.Polygon object at 0x12c1cdc40>, <shapely.geometry.polygon.Polygon object at 0x12c1bc730>, <shapely.geometry.polygon.Polygon object at 0x12c215970>, <shapely.geometry.polygon.Polygon object at 0x12c278220>, <shapely.geometry.polygon.Polygon object at 0x12c2e32b0>, <shapely.geometry.polygon.Polygon object at 0x12c342c70>]\n"
     ]
    },
    {
     "data": {
      "image/png": "[encoded data removed]",
      "text/plain": [
       "<Figure size 432x288 with 1 Axes>"
      ]
     },
     "metadata": {
      "needs_background": "light"
     },
     "output_type": "display_data"
    },
    {
     "name": "stdout",
     "output_type": "stream",
     "text": [
      "valid attribute:  ['obj0_position']\n",
      "validating :  ['obj0_heading']\n",
      "conditionAttributes attribute:  obj0_heading\n",
      "valid attribute:  ['obj0_heading']\n",
      "conditionAttributes attribute:  obj0_heading\n",
      "validating :  ['obj1_position']\n",
      "OperatorDistribution __call__ distOverRegions:  Options(<bound method PolygonalRegion.intersect of <Road at 0x11b04a100; name=\"Road 0\", uid=\"road0\">>, <bound method PolygonalRegion.intersect of <Road at 0x1269afac0; name=\"Road 16\", id=\"16\", uid=\"road16\">>, <bound method PolygonalRegion.intersect of <Road at 0x1271ff910; name=\"Road 25\", id=\"25\", uid=\"road25\">>, <bound method PolygonalRegion.intersect of <Road at 0x1272a0b50; name=\"Road 26\", id=\"26\", uid=\"road26\">>, <bound method PolygonalRegion.intersect of <Road at 0x127361220; name=\"Road 29\", id=\"29\", uid=\"road29\">>, <bound method PolygonalRegion.intersect of <Road at 0x12747b880; name=\"Road 30\", id=\"30\", uid=\"road30\">>, <bound method PolygonalRegion.intersect of <Road at 0x1274c2700; name=\"Road 31\", id=\"31\", uid=\"road31\">>, <bound method PolygonalRegion.intersect of <Road at 0x1274fae80; name=\"Road 32\", id=\"32\", uid=\"road32\">>, <bound method PolygonalRegion.intersect of <Road at 0x127618520; name=\"Road 33\", id=\"33\", uid=\"road33\">>, <bound method PolygonalRegion.intersect of <Road at 0x127de6970; name=\"Road 39\", id=\"39\", uid=\"road39\">>)\n"
     ]
    },
    {
     "ename": "AttributeError",
     "evalue": "'function' object has no attribute 'polygon'",
     "output_type": "error",
     "traceback": [
      "\u001b[0;31m---------------------------------------------------------------------------\u001b[0m",
      "\u001b[0;31mAttributeError\u001b[0m                            Traceback (most recent call last)",
      "\u001b[0;32m<ipython-input-5-c616e73683c7>\u001b[0m in \u001b[0;36m<module>\u001b[0;34m\u001b[0m\n\u001b[1;32m     10\u001b[0m     \u001b[0msample\u001b[0m \u001b[0;34m=\u001b[0m \u001b[0mscenario\u001b[0m\u001b[0;34m.\u001b[0m\u001b[0mgenerateForQuery\u001b[0m\u001b[0;34m(\u001b[0m\u001b[0mverbosity\u001b[0m\u001b[0;34m=\u001b[0m\u001b[0;36m0\u001b[0m\u001b[0;34m)\u001b[0m\u001b[0;34m\u001b[0m\u001b[0;34m\u001b[0m\u001b[0m\n\u001b[1;32m     11\u001b[0m     \u001b[0mlabel\u001b[0m\u001b[0;34m,\u001b[0m \u001b[0m_\u001b[0m \u001b[0;34m=\u001b[0m \u001b[0msample\u001b[0m\u001b[0;34m\u001b[0m\u001b[0;34m\u001b[0m\u001b[0m\n\u001b[0;32m---> 12\u001b[0;31m     \u001b[0;32mif\u001b[0m \u001b[0;32mnot\u001b[0m \u001b[0mvalidateLabel\u001b[0m\u001b[0;34m(\u001b[0m\u001b[0mscenario\u001b[0m\u001b[0;34m,\u001b[0m \u001b[0mlabel\u001b[0m\u001b[0;34m,\u001b[0m \u001b[0mmap_path\u001b[0m\u001b[0;34m,\u001b[0m \u001b[0mmap_source\u001b[0m\u001b[0;34m,\u001b[0m \u001b[0mdebug\u001b[0m\u001b[0;34m=\u001b[0m\u001b[0;32mFalse\u001b[0m\u001b[0;34m)\u001b[0m\u001b[0;34m:\u001b[0m\u001b[0;34m\u001b[0m\u001b[0;34m\u001b[0m\u001b[0m\n\u001b[0m\u001b[1;32m     13\u001b[0m         \u001b[0mprint\u001b[0m\u001b[0;34m(\u001b[0m\u001b[0;34m\"NOT VALID LABEL\"\u001b[0m\u001b[0;34m)\u001b[0m\u001b[0;34m\u001b[0m\u001b[0;34m\u001b[0m\u001b[0m\n\u001b[1;32m     14\u001b[0m         \u001b[0;32mbreak\u001b[0m\u001b[0;34m\u001b[0m\u001b[0;34m\u001b[0m\u001b[0m\n",
      "\u001b[0;32m<ipython-input-4-73bdc6d3a3b1>\u001b[0m in \u001b[0;36mvalidateLabel\u001b[0;34m(scenario, label, map_path, map_source, ego_visibleDistance, ego_viewAngle, smt_file_path, attributeList, debug)\u001b[0m\n\u001b[1;32m    136\u001b[0m     \u001b[0;32mfor\u001b[0m \u001b[0mjointlyDependentAttributeList\u001b[0m \u001b[0;32min\u001b[0m \u001b[0msortedDependencyList\u001b[0m\u001b[0;34m:\u001b[0m\u001b[0;34m\u001b[0m\u001b[0;34m\u001b[0m\u001b[0m\n\u001b[1;32m    137\u001b[0m         \u001b[0mprint\u001b[0m\u001b[0;34m(\u001b[0m\u001b[0;34m\"validating : \"\u001b[0m\u001b[0;34m,\u001b[0m \u001b[0mjointlyDependentAttributeList\u001b[0m\u001b[0;34m)\u001b[0m\u001b[0;34m\u001b[0m\u001b[0;34m\u001b[0m\u001b[0m\n\u001b[0;32m--> 138\u001b[0;31m         \u001b[0;32mif\u001b[0m \u001b[0;32mnot\u001b[0m \u001b[0mvalidateLabelElement\u001b[0m\u001b[0;34m(\u001b[0m\u001b[0mscenario\u001b[0m\u001b[0;34m,\u001b[0m \u001b[0mcached_variables\u001b[0m\u001b[0;34m,\u001b[0m \u001b[0mjointlyDependentAttributeList\u001b[0m\u001b[0;34m,\u001b[0m \u001b[0mdictionary\u001b[0m\u001b[0;34m,\u001b[0m \u001b[0mdebug\u001b[0m\u001b[0;34m)\u001b[0m\u001b[0;34m:\u001b[0m\u001b[0;34m\u001b[0m\u001b[0;34m\u001b[0m\u001b[0m\n\u001b[0m\u001b[1;32m    139\u001b[0m             \u001b[0mprint\u001b[0m\u001b[0;34m(\u001b[0m\u001b[0;34m\"NON-VALID ATTRIBUTES: \"\u001b[0m\u001b[0;34m,\u001b[0m \u001b[0mjointlyDependentAttributeList\u001b[0m\u001b[0;34m)\u001b[0m\u001b[0;34m\u001b[0m\u001b[0;34m\u001b[0m\u001b[0m\n\u001b[1;32m    140\u001b[0m             \u001b[0;32mreturn\u001b[0m \u001b[0;32mFalse\u001b[0m\u001b[0;34m\u001b[0m\u001b[0;34m\u001b[0m\u001b[0m\n",
      "\u001b[0;32m<ipython-input-4-73bdc6d3a3b1>\u001b[0m in \u001b[0;36mvalidateLabelElement\u001b[0;34m(scenario, cached_variables, jointlyDependentAttributeList, dictionary, debug, falseTesting)\u001b[0m\n\u001b[1;32m     86\u001b[0m         \u001b[0mattr_obj\u001b[0m \u001b[0;34m=\u001b[0m \u001b[0mdictionary\u001b[0m\u001b[0;34m[\u001b[0m\u001b[0mobj_name\u001b[0m\u001b[0;34m]\u001b[0m\u001b[0;34m[\u001b[0m\u001b[0mattr_name\u001b[0m\u001b[0;34m]\u001b[0m\u001b[0;34m[\u001b[0m\u001b[0;34m'self'\u001b[0m\u001b[0;34m]\u001b[0m\u001b[0;34m\u001b[0m\u001b[0;34m\u001b[0m\u001b[0m\n\u001b[1;32m     87\u001b[0m \u001b[0;34m\u001b[0m\u001b[0m\n\u001b[0;32m---> 88\u001b[0;31m         translateAttributeExpressionTree(attribute_name, attr_obj, attr_label, cached_variables, \\\n\u001b[0m\u001b[1;32m     89\u001b[0m                                           dictionary, debug)\n\u001b[1;32m     90\u001b[0m \u001b[0;34m\u001b[0m\u001b[0m\n",
      "\u001b[0;32m<ipython-input-4-73bdc6d3a3b1>\u001b[0m in \u001b[0;36mtranslateAttributeExpressionTree\u001b[0;34m(attribute_name, attr_obj, attr_label, cached_variables, dictionary, debug)\u001b[0m\n\u001b[1;32m     48\u001b[0m \u001b[0;34m\u001b[0m\u001b[0m\n\u001b[1;32m     49\u001b[0m     \u001b[0;31m# Encode the given attribute's expression tree\u001b[0m\u001b[0;34m\u001b[0m\u001b[0;34m\u001b[0m\u001b[0;34m\u001b[0m\u001b[0m\n\u001b[0;32m---> 50\u001b[0;31m     \u001b[0msmt_var\u001b[0m \u001b[0;34m=\u001b[0m \u001b[0mattr_obj\u001b[0m\u001b[0;34m.\u001b[0m\u001b[0mencodeToSMT\u001b[0m\u001b[0;34m(\u001b[0m\u001b[0msmt_file_path\u001b[0m\u001b[0;34m,\u001b[0m \u001b[0mcached_variables\u001b[0m\u001b[0;34m,\u001b[0m \u001b[0mdebug\u001b[0m \u001b[0;34m=\u001b[0m \u001b[0mdebug\u001b[0m\u001b[0;34m)\u001b[0m\u001b[0;34m\u001b[0m\u001b[0;34m\u001b[0m\u001b[0m\n\u001b[0m\u001b[1;32m     51\u001b[0m \u001b[0;34m\u001b[0m\u001b[0m\n\u001b[1;32m     52\u001b[0m     \u001b[0;32mif\u001b[0m \u001b[0mattr_type\u001b[0m \u001b[0;34m==\u001b[0m \u001b[0;34m'position'\u001b[0m\u001b[0;34m:\u001b[0m\u001b[0;34m\u001b[0m\u001b[0;34m\u001b[0m\u001b[0m\n",
      "\u001b[0;32m~/Desktop/Scenic_Query/Scenic/src/scenic/core/regions.py\u001b[0m in \u001b[0;36mencodeToSMT\u001b[0;34m(self, smt_file_path, cached_variables, smt_var, debug)\u001b[0m\n\u001b[1;32m    322\u001b[0m \u001b[0;34m\u001b[0m\u001b[0m\n\u001b[1;32m    323\u001b[0m                 \u001b[0;32melse\u001b[0m\u001b[0;34m:\u001b[0m\u001b[0;34m\u001b[0m\u001b[0;34m\u001b[0m\u001b[0m\n\u001b[0;32m--> 324\u001b[0;31m                         \u001b[0mpoint\u001b[0m \u001b[0;34m=\u001b[0m \u001b[0mregion\u001b[0m\u001b[0;34m.\u001b[0m\u001b[0mencodeToSMT\u001b[0m\u001b[0;34m(\u001b[0m\u001b[0msmt_file_path\u001b[0m\u001b[0;34m,\u001b[0m \u001b[0mcached_variables\u001b[0m\u001b[0;34m,\u001b[0m \u001b[0mdebug\u001b[0m\u001b[0;34m=\u001b[0m\u001b[0mdebug\u001b[0m\u001b[0;34m)\u001b[0m\u001b[0;34m\u001b[0m\u001b[0;34m\u001b[0m\u001b[0m\n\u001b[0m\u001b[1;32m    325\u001b[0m                         \u001b[0;34m(\u001b[0m\u001b[0mx_cond\u001b[0m\u001b[0;34m,\u001b[0m \u001b[0my_cond\u001b[0m\u001b[0;34m)\u001b[0m \u001b[0;34m=\u001b[0m \u001b[0mvector_operation_smt\u001b[0m\u001b[0;34m(\u001b[0m\u001b[0mpoint\u001b[0m\u001b[0;34m,\u001b[0m \u001b[0;34m\"equal\"\u001b[0m\u001b[0;34m,\u001b[0m \u001b[0msmt_var\u001b[0m\u001b[0;34m)\u001b[0m\u001b[0;34m\u001b[0m\u001b[0;34m\u001b[0m\u001b[0m\n\u001b[1;32m    326\u001b[0m                         \u001b[0mwriteSMTtoFile\u001b[0m\u001b[0;34m(\u001b[0m\u001b[0msmt_file_path\u001b[0m\u001b[0;34m,\u001b[0m \u001b[0msmt_assert\u001b[0m\u001b[0;34m(\u001b[0m\u001b[0;32mNone\u001b[0m\u001b[0;34m,\u001b[0m \u001b[0msmt_and\u001b[0m\u001b[0;34m(\u001b[0m\u001b[0mx_cond\u001b[0m\u001b[0;34m,\u001b[0m \u001b[0my_cond\u001b[0m\u001b[0;34m)\u001b[0m\u001b[0;34m)\u001b[0m\u001b[0;34m)\u001b[0m\u001b[0;34m\u001b[0m\u001b[0;34m\u001b[0m\u001b[0m\n",
      "\u001b[0;32m~/Desktop/Scenic_Query/Scenic/src/scenic/core/distributions.py\u001b[0m in \u001b[0;36mencodeToSMT\u001b[0;34m(self, smt_file_path, cached_variables, debug, encode)\u001b[0m\n\u001b[1;32m   1155\u001b[0m                                 \u001b[0;32mimport\u001b[0m \u001b[0mshapely\u001b[0m\u001b[0;34m.\u001b[0m\u001b[0mgeometry\u001b[0m\u001b[0;34m.\u001b[0m\u001b[0mpolygon\u001b[0m \u001b[0;32mas\u001b[0m \u001b[0mpolygon\u001b[0m\u001b[0;34m\u001b[0m\u001b[0;34m\u001b[0m\u001b[0m\n\u001b[1;32m   1156\u001b[0m                                 \u001b[0;32mfor\u001b[0m \u001b[0mreg\u001b[0m \u001b[0;32min\u001b[0m \u001b[0mdistOverRegions\u001b[0m\u001b[0;34m.\u001b[0m\u001b[0moptions\u001b[0m\u001b[0;34m:\u001b[0m\u001b[0;34m\u001b[0m\u001b[0;34m\u001b[0m\u001b[0m\n\u001b[0;32m-> 1157\u001b[0;31m                                         \u001b[0;32mif\u001b[0m \u001b[0;32mnot\u001b[0m \u001b[0mreg\u001b[0m\u001b[0;34m.\u001b[0m\u001b[0mpolygon\u001b[0m\u001b[0;34m.\u001b[0m\u001b[0mintersection\u001b[0m\u001b[0;34m(\u001b[0m\u001b[0motherRegion\u001b[0m\u001b[0;34m.\u001b[0m\u001b[0mpolygon\u001b[0m\u001b[0;34m)\u001b[0m\u001b[0;34m.\u001b[0m\u001b[0mis_empty\u001b[0m\u001b[0;34m:\u001b[0m\u001b[0;34m\u001b[0m\u001b[0;34m\u001b[0m\u001b[0m\n\u001b[0m\u001b[1;32m   1158\u001b[0m                                                 \u001b[0mpossibleRegions\u001b[0m\u001b[0;34m.\u001b[0m\u001b[0mappend\u001b[0m\u001b[0;34m(\u001b[0m\u001b[0mreg\u001b[0m\u001b[0;34m)\u001b[0m\u001b[0;34m\u001b[0m\u001b[0;34m\u001b[0m\u001b[0m\n\u001b[1;32m   1159\u001b[0m \u001b[0;34m\u001b[0m\u001b[0m\n",
      "\u001b[0;31mAttributeError\u001b[0m: 'function' object has no attribute 'polygon'"
     ]
    }
   ],
   "source": [
    "import os\n",
    "import scenic\n",
    "scenic_script = \"./examples/carla/ICCV_Scenic_Experiments/2_agent_scenario.scenic\"\n",
    "scenario = scenic.scenarioFromFile(scenic_script)\n",
    "map_path = '/Users/edwardkim/Desktop/Scenic_Query/Scenic/tests/formats/opendrive/maps/CARLA/Town05.xodr'\n",
    "map_source = 'carla'\n",
    "\n",
    "for i in range(1):\n",
    "    resetScenarioDependency(scenario)\n",
    "    sample = scenario.generateForQuery(verbosity=0)\n",
    "    label, _ = sample\n",
    "    if not validateLabel(scenario, label, map_path, map_source, debug=False):\n",
    "        print(\"NOT VALID LABEL\")\n",
    "        break\n",
    "    else:\n",
    "        print(\"label is valid: \", i)\n",
    "\n"
   ]
  },
  {
   "cell_type": "code",
   "execution_count": 8,
   "metadata": {
    "scrolled": false
   },
   "outputs": [
    {
     "name": "stdout",
     "output_type": "stream",
     "text": [
      "<class 'scenic.core.distributions.OperatorDistribution'>\n",
      "Options(<Road Road 0>, <Road Road 1>, <Road Road 2>, <Road Road 3>, <Road Road 4>, <Road Road 5>, <Road Road 6>, <Road Road 7>, <Road Road 8>, <Road Road 9>, <Road Road 10>, <Road Road 11>, <Road Road 12>, <Road Road 13>, <Road Road 14>, <Road Road 15>, <Road Road 16>, <Road Road 17>, <Road Road 18>, <Road Road 19>, <Road Road 20>, <Road Road 21>, <Road Road 22>, <Road Road 23>, <Road Road 24>, <Road Road 25>, <Road Road 26>, <Road Road 27>, <Road Road 28>, <Road Road 29>, <Road Road 30>, <Road Road 31>, <Road Road 32>, <Road Road 33>, <Road Road 34>, <Road Road 35>, <Road Road 36>, <Road Road 37>, <Road Road 38>, <Road Road 39>, <Road Road 40>, <Road Road 41>, <Road Road 42>, <Road Road 43>, <Road Road 44>, <Road Road 45>, <Road Road 46>, <Road Road 47>, <Road Road 48>, <Road Road 49>, <Road Road 50>, <Road Road 51>, <Road Road 52>).intersect.__call__(<SectorRegion>)\n"
     ]
    }
   ],
   "source": [
    "x = scenario.original_objects[1].position.region.dist\n",
    "print(type(x))\n",
    "print(x)"
   ]
  },
  {
   "cell_type": "code",
   "execution_count": null,
   "metadata": {
    "scrolled": true
   },
   "outputs": [],
   "source": [
    "import shapely.geometry.polygon as polygon\n",
    "p = polygon.Polygon()\n",
    "print(p.is_empty)"
   ]
  },
  {
   "cell_type": "code",
   "execution_count": null,
   "metadata": {},
   "outputs": [],
   "source": [
    "\"\"\"\n",
    "Issue1: ahead/behind, left/right of uses the same heading angle as the referenced\n",
    "        (1) As a result, position & heading are jointly dependent\n",
    "        ==> what if we do not allow joint dependency between position and heading?\n",
    "        This assumes that we can decouple joint dependency between the two, if exists.\n",
    "        Is this true? Yes\n",
    "        ==> Limitation: if many there are many jointly dependent features all at once, it may not be feasible to solve\n",
    "        \n",
    "        (2) an obj can have its position be dependent on its heading because its heading is the same as the \n",
    "        heading of another object to which the obj is depedent\n",
    "        ==> is this only an issue with ego? because the ordering of the objects \n",
    "        ==> ==> solution: just keep the original objects ordering\n",
    "\n",
    "Issue2: my assumption that jointly dependent and dependent relationships are disjoint is wrong\n",
    "        (e.g. dependencyAnalysisTest4.scenic)\n",
    "        ==> it's not possible to capture such case since the attribute contains the intermediate variable\n",
    "        ==> another ordering process needs to be done within jointly dependent features based on dependence relations\n",
    "\n",
    "Issue3: Need to check the case when multiple attributes are dependent on another attributes\n",
    "        (e.g. )\n",
    "        \n",
    "\n",
    "Sorting Approach\n",
    "Since the objects are listed in the order the scenario is written, \n",
    "the order in which SMT translation is to be done stays intact\n",
    "The only issue now is to determine joint dependency\n",
    "==> before adding to joint dependency, check whether the jointly dependent attribute is dependent on any of the\n",
    "other jointly dependent attributes\n",
    "\"\"\""
   ]
  },
  {
   "cell_type": "code",
   "execution_count": null,
   "metadata": {},
   "outputs": [],
   "source": []
  },
  {
   "cell_type": "code",
   "execution_count": null,
   "metadata": {
    "scrolled": true
   },
   "outputs": [],
   "source": []
  },
  {
   "cell_type": "code",
   "execution_count": null,
   "metadata": {
    "scrolled": true
   },
   "outputs": [],
   "source": []
  },
  {
   "cell_type": "code",
   "execution_count": null,
   "metadata": {
    "scrolled": true
   },
   "outputs": [],
   "source": []
  },
  {
   "cell_type": "code",
   "execution_count": null,
   "metadata": {},
   "outputs": [],
   "source": []
  },
  {
   "cell_type": "code",
   "execution_count": null,
   "metadata": {},
   "outputs": [],
   "source": []
  },
  {
   "cell_type": "code",
   "execution_count": null,
   "metadata": {
    "scrolled": true
   },
   "outputs": [],
   "source": []
  },
  {
   "cell_type": "code",
   "execution_count": null,
   "metadata": {
    "scrolled": true
   },
   "outputs": [],
   "source": []
  },
  {
   "cell_type": "code",
   "execution_count": null,
   "metadata": {},
   "outputs": [],
   "source": []
  },
  {
   "cell_type": "code",
   "execution_count": null,
   "metadata": {},
   "outputs": [],
   "source": []
  },
  {
   "cell_type": "code",
   "execution_count": null,
   "metadata": {},
   "outputs": [],
   "source": []
  },
  {
   "cell_type": "code",
   "execution_count": null,
   "metadata": {
    "scrolled": true
   },
   "outputs": [],
   "source": []
  },
  {
   "cell_type": "code",
   "execution_count": null,
   "metadata": {},
   "outputs": [],
   "source": []
  },
  {
   "cell_type": "code",
   "execution_count": null,
   "metadata": {
    "scrolled": true
   },
   "outputs": [],
   "source": []
  },
  {
   "cell_type": "code",
   "execution_count": null,
   "metadata": {},
   "outputs": [],
   "source": []
  },
  {
   "cell_type": "code",
   "execution_count": null,
   "metadata": {},
   "outputs": [],
   "source": []
  },
  {
   "cell_type": "code",
   "execution_count": null,
   "metadata": {
    "scrolled": true
   },
   "outputs": [],
   "source": []
  },
  {
   "cell_type": "code",
   "execution_count": null,
   "metadata": {},
   "outputs": [],
   "source": []
  },
  {
   "cell_type": "code",
   "execution_count": null,
   "metadata": {},
   "outputs": [],
   "source": []
  },
  {
   "cell_type": "code",
   "execution_count": null,
   "metadata": {},
   "outputs": [],
   "source": []
  }
 ],
 "metadata": {
  "kernelspec": {
   "display_name": "Python 3",
   "language": "python",
   "name": "python3"
  },
  "language_info": {
   "codemirror_mode": {
    "name": "ipython",
    "version": 3
   },
   "file_extension": ".py",
   "mimetype": "text/x-python",
   "name": "python",
   "nbconvert_exporter": "python",
   "pygments_lexer": "ipython3",
   "version": "3.8.2"
  }
 },
 "nbformat": 4,
 "nbformat_minor": 4
}
