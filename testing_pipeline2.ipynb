{
 "cells": [
  {
   "cell_type": "code",
   "execution_count": 1,
   "metadata": {
    "scrolled": true
   },
   "outputs": [
    {
     "name": "stderr",
     "output_type": "stream",
     "text": [
      "/Users/edwardkim/Desktop/Scenic_Query/Scenic/src/scenic/core/errors.py:160: UserWarning: unable to install sys.excepthook to format Scenic backtraces\n",
      "  warnings.warn('unable to install sys.excepthook to format Scenic backtraces')\n",
      "/Users/edwardkim/Desktop/Scenic_Query/Scenic/src/scenic/simulators/carla/model.scenic:56: UserWarning: the \"carla\" package is not installed; will not be able to run dynamic simulations\n",
      "  warnings.warn('the \"carla\" package is not installed; '\n"
     ]
    }
   ],
   "source": [
    "import os\n",
    "import scenic\n",
    "scenic_script = \"./examples/carla/car.scenic\"\n",
    "# scenic_script = \"./examples/carla/test2.scenic\"\n",
    "scenario = scenic.scenarioFromFile(scenic_script)\n",
    "\n",
    "# from scenic.domains.driving.roads import ManeuverType, Network\n",
    "# map_path = '/Users/edwardkim/Desktop/Scenic-devel/examples/carla/../../tests/formats/opendrive/maps/CARLA/Town05.xodr'\n",
    "# network = Network.fromFile(map_path)"
   ]
  },
  {
   "cell_type": "code",
   "execution_count": 2,
   "metadata": {
    "scrolled": true
   },
   "outputs": [
    {
     "ename": "NameError",
     "evalue": "name 'math' is not defined",
     "output_type": "error",
     "traceback": [
      "\u001b[0;31m---------------------------------------------------------------------------\u001b[0m",
      "\u001b[0;31mNameError\u001b[0m                                 Traceback (most recent call last)",
      "\u001b[0;32m<ipython-input-2-166de9125671>\u001b[0m in \u001b[0;36m<module>\u001b[0;34m\u001b[0m\n\u001b[1;32m     11\u001b[0m \u001b[0mlabel\u001b[0m \u001b[0;34m=\u001b[0m \u001b[0mobj\u001b[0m\u001b[0;34m.\u001b[0m\u001b[0msample\u001b[0m\u001b[0;34m(\u001b[0m\u001b[0;34m)\u001b[0m\u001b[0;34m\u001b[0m\u001b[0;34m\u001b[0m\u001b[0m\n\u001b[1;32m     12\u001b[0m egoVisibleRegion = SectorRegion(label.position, 50, \\\n\u001b[0;32m---> 13\u001b[0;31m                                     label.heading, math.radians(130))\n\u001b[0m\u001b[1;32m     14\u001b[0m \u001b[0mego_polygon\u001b[0m \u001b[0;34m=\u001b[0m \u001b[0megoVisibleRegion\u001b[0m\u001b[0;34m.\u001b[0m\u001b[0mpolygon\u001b[0m\u001b[0;34m\u001b[0m\u001b[0;34m\u001b[0m\u001b[0m\n\u001b[1;32m     15\u001b[0m \u001b[0;34m\u001b[0m\u001b[0m\n",
      "\u001b[0;31mNameError\u001b[0m: name 'math' is not defined"
     ]
    }
   ],
   "source": [
    "from scenic.core.vectors import OrientedVector, Vector\n",
    "import matplotlib.pyplot as plt\n",
    "from scenic.core.type_support import toVector\n",
    "from scenic.core.regions import PolygonalRegion, PointInRegionDistribution\n",
    "import os.path as path\n",
    "from scenic.core.regions import SectorRegion\n",
    "from scenic.core.geometry import triangulatePolygon\n",
    "from shapely.geometry.polygon import Polygon\n",
    "\n",
    "obj = scenario.egoObject\n",
    "label = obj.sample()\n",
    "egoVisibleRegion = SectorRegion(label.position, 50, \\\n",
    "                                    label.heading, math.radians(130))\n",
    "ego_polygon = egoVisibleRegion.polygon\n",
    "\n",
    "intersection = []\n",
    "multipolygon = scenario.egoObject.position.region\n",
    "\n",
    "for polygon in scenario.egoObject.position.region.polygons:\n",
    "    inter = ego_polygon.intersection(polygon)\n",
    "    if not inter.is_empty:\n",
    "        intersection.append(polygon)\n",
    "\n",
    "for poly in intersection:\n",
    "    plt.plot(*poly.exterior.xy)\n",
    "plt.show()\n",
    "\n",
    "triangles = []\n",
    "for poly in intersection:\n",
    "    triangles.extend(triangulatePolygon(poly))\n",
    "\n",
    "print(len(triangles))\n",
    "\n",
    "for t in triangles:\n",
    "    plt.plot(*t.exterior.xy)\n",
    "plt.plot()\n"
   ]
  },
  {
   "cell_type": "code",
   "execution_count": 3,
   "metadata": {
    "scrolled": true
   },
   "outputs": [
    {
     "name": "stdout",
     "output_type": "stream",
     "text": [
      "label.position:  (-119.24504551787531 @ 108.73702233496866)\n",
      "sampled position: -119.24504551787531 108.73702233496866\n"
     ]
    },
    {
     "ename": "TypeError",
     "evalue": "encodeToSMT() missing 1 required positional argument: 'smt_var'",
     "output_type": "error",
     "traceback": [
      "\u001b[0;31m---------------------------------------------------------------------------\u001b[0m",
      "\u001b[0;31mTypeError\u001b[0m                                 Traceback (most recent call last)",
      "\u001b[0;32m<ipython-input-3-af75b15ca037>\u001b[0m in \u001b[0;36m<module>\u001b[0;34m\u001b[0m\n\u001b[1;32m     77\u001b[0m \u001b[0mlabel\u001b[0m \u001b[0;34m=\u001b[0m \u001b[0mobj\u001b[0m\u001b[0;34m.\u001b[0m\u001b[0msample\u001b[0m\u001b[0;34m(\u001b[0m\u001b[0;34m)\u001b[0m\u001b[0;34m\u001b[0m\u001b[0;34m\u001b[0m\u001b[0m\n\u001b[1;32m     78\u001b[0m \u001b[0mprint\u001b[0m\u001b[0;34m(\u001b[0m\u001b[0;34m\"label.position: \"\u001b[0m\u001b[0;34m,\u001b[0m \u001b[0mlabel\u001b[0m\u001b[0;34m.\u001b[0m\u001b[0mposition\u001b[0m\u001b[0;34m)\u001b[0m\u001b[0;34m\u001b[0m\u001b[0;34m\u001b[0m\u001b[0m\n\u001b[0;32m---> 79\u001b[0;31m \u001b[0mprint\u001b[0m\u001b[0;34m(\u001b[0m\u001b[0misPositionValid\u001b[0m\u001b[0;34m(\u001b[0m\u001b[0mobj\u001b[0m\u001b[0;34m,\u001b[0m \u001b[0mlabel\u001b[0m\u001b[0;34m,\u001b[0m \u001b[0msmt_file_path\u001b[0m\u001b[0;34m,\u001b[0m \u001b[0mego_info\u001b[0m\u001b[0;34m,\u001b[0m \u001b[0mdebug\u001b[0m\u001b[0;34m=\u001b[0m\u001b[0;32mFalse\u001b[0m\u001b[0;34m,\u001b[0m \u001b[0mfalseTesting\u001b[0m\u001b[0;34m=\u001b[0m\u001b[0;32mFalse\u001b[0m\u001b[0;34m)\u001b[0m\u001b[0;34m)\u001b[0m\u001b[0;34m\u001b[0m\u001b[0;34m\u001b[0m\u001b[0m\n\u001b[0m",
      "\u001b[0;32m<ipython-input-3-af75b15ca037>\u001b[0m in \u001b[0;36misPositionValid\u001b[0;34m(obj, label, smt_file_path, ego_info, debug, falseTesting)\u001b[0m\n\u001b[1;32m     47\u001b[0m \u001b[0;34m\u001b[0m\u001b[0m\n\u001b[1;32m     48\u001b[0m     \u001b[0;31m# Encode object's position to SMT formula\u001b[0m\u001b[0;34m\u001b[0m\u001b[0;34m\u001b[0m\u001b[0;34m\u001b[0m\u001b[0m\n\u001b[0;32m---> 49\u001b[0;31m     \u001b[0mobj\u001b[0m\u001b[0;34m.\u001b[0m\u001b[0mposition\u001b[0m\u001b[0;34m.\u001b[0m\u001b[0mencodeToSMT\u001b[0m\u001b[0;34m(\u001b[0m\u001b[0msmt_file_path\u001b[0m\u001b[0;34m,\u001b[0m \u001b[0mcached_variables\u001b[0m\u001b[0;34m,\u001b[0m \u001b[0msmt_var\u001b[0m\u001b[0;34m,\u001b[0m \u001b[0mdebug\u001b[0m \u001b[0;34m=\u001b[0m \u001b[0mdebug\u001b[0m\u001b[0;34m)\u001b[0m\u001b[0;34m\u001b[0m\u001b[0;34m\u001b[0m\u001b[0m\n\u001b[0m\u001b[1;32m     50\u001b[0m \u001b[0;34m\u001b[0m\u001b[0m\n\u001b[1;32m     51\u001b[0m     \u001b[0mwriteSMTtoFile\u001b[0m\u001b[0;34m(\u001b[0m\u001b[0msmt_file_path\u001b[0m\u001b[0;34m,\u001b[0m \u001b[0;34m\"(check-sat)\"\u001b[0m\u001b[0;34m)\u001b[0m\u001b[0;34m\u001b[0m\u001b[0;34m\u001b[0m\u001b[0m\n",
      "\u001b[0;32m~/Desktop/Scenic_Query/Scenic/src/scenic/core/regions.py\u001b[0m in \u001b[0;36mencodeToSMT\u001b[0;34m(self, smt_file_path, cached_variables, smt_var, debug)\u001b[0m\n\u001b[1;32m    302\u001b[0m                         \u001b[0;32mimport\u001b[0m \u001b[0mscenic\u001b[0m\u001b[0;34m.\u001b[0m\u001b[0mdomains\u001b[0m\u001b[0;34m.\u001b[0m\u001b[0mdriving\u001b[0m\u001b[0;34m.\u001b[0m\u001b[0mroads\u001b[0m \u001b[0;32mas\u001b[0m \u001b[0mroads\u001b[0m\u001b[0;34m\u001b[0m\u001b[0;34m\u001b[0m\u001b[0m\n\u001b[1;32m    303\u001b[0m                         \u001b[0;32mif\u001b[0m \u001b[0mregion\u001b[0m\u001b[0;34m.\u001b[0m\u001b[0m_conditioned\u001b[0m\u001b[0;34m.\u001b[0m\u001b[0mcheckOptionsType\u001b[0m\u001b[0;34m(\u001b[0m\u001b[0mroads\u001b[0m\u001b[0;34m.\u001b[0m\u001b[0mNetworkElement\u001b[0m\u001b[0;34m)\u001b[0m\u001b[0;34m:\u001b[0m\u001b[0;34m\u001b[0m\u001b[0;34m\u001b[0m\u001b[0m\n\u001b[0;32m--> 304\u001b[0;31m                                 \u001b[0mregion\u001b[0m\u001b[0;34m.\u001b[0m\u001b[0mencodeToSMT\u001b[0m\u001b[0;34m(\u001b[0m\u001b[0msmt_file_path\u001b[0m\u001b[0;34m,\u001b[0m \u001b[0mcached_variables\u001b[0m\u001b[0;34m,\u001b[0m \u001b[0msmt_var\u001b[0m\u001b[0;34m,\u001b[0m \u001b[0mdebug\u001b[0m\u001b[0;34m=\u001b[0m\u001b[0mdebug\u001b[0m\u001b[0;34m)\u001b[0m\u001b[0;34m\u001b[0m\u001b[0;34m\u001b[0m\u001b[0m\n\u001b[0m\u001b[1;32m    305\u001b[0m                         \u001b[0;32melse\u001b[0m\u001b[0;34m:\u001b[0m\u001b[0;34m\u001b[0m\u001b[0;34m\u001b[0m\u001b[0m\n\u001b[1;32m    306\u001b[0m                                 \u001b[0;32mraise\u001b[0m \u001b[0mNotImplementedError\u001b[0m\u001b[0;34m\u001b[0m\u001b[0;34m\u001b[0m\u001b[0m\n",
      "\u001b[0;32m~/Desktop/Scenic_Query/Scenic/src/scenic/core/distributions.py\u001b[0m in \u001b[0;36mencodeToSMT\u001b[0;34m(self, smt_file_path, cached_variables, smt_var, debug, encode)\u001b[0m\n\u001b[1;32m   1662\u001b[0m                                         \u001b[0;32mif\u001b[0m \u001b[0mdebug\u001b[0m\u001b[0;34m:\u001b[0m\u001b[0;34m\u001b[0m\u001b[0;34m\u001b[0m\u001b[0m\n\u001b[1;32m   1663\u001b[0m                                                 \u001b[0mwriteSMTtoFile\u001b[0m\u001b[0;34m(\u001b[0m\u001b[0msmt_file_path\u001b[0m\u001b[0;34m,\u001b[0m \u001b[0;34m\"Options elem: \"\u001b[0m\u001b[0;34m+\u001b[0m\u001b[0mstr\u001b[0m\u001b[0;34m(\u001b[0m\u001b[0mtype\u001b[0m\u001b[0;34m(\u001b[0m\u001b[0melem\u001b[0m\u001b[0;34m)\u001b[0m\u001b[0;34m)\u001b[0m\u001b[0;34m)\u001b[0m\u001b[0;34m\u001b[0m\u001b[0;34m\u001b[0m\u001b[0m\n\u001b[0;32m-> 1664\u001b[0;31m                                         \u001b[0mpoint\u001b[0m \u001b[0;34m=\u001b[0m \u001b[0melem\u001b[0m\u001b[0;34m.\u001b[0m\u001b[0mencodeToSMT\u001b[0m\u001b[0;34m(\u001b[0m\u001b[0msmt_file_path\u001b[0m\u001b[0;34m,\u001b[0m \u001b[0mcached_variables\u001b[0m\u001b[0;34m,\u001b[0m \u001b[0mdebug\u001b[0m\u001b[0;34m=\u001b[0m\u001b[0mdebug\u001b[0m\u001b[0;34m)\u001b[0m\u001b[0;34m\u001b[0m\u001b[0;34m\u001b[0m\u001b[0m\n\u001b[0m\u001b[1;32m   1665\u001b[0m                                         \u001b[0;34m(\u001b[0m\u001b[0mx_cond\u001b[0m\u001b[0;34m,\u001b[0m \u001b[0my_cond\u001b[0m\u001b[0;34m)\u001b[0m \u001b[0;34m=\u001b[0m \u001b[0mvector_operation_smt\u001b[0m\u001b[0;34m(\u001b[0m\u001b[0mpoint\u001b[0m\u001b[0;34m,\u001b[0m \u001b[0;34m\"equal\"\u001b[0m\u001b[0;34m,\u001b[0m \u001b[0msmt_var\u001b[0m\u001b[0;34m)\u001b[0m\u001b[0;34m\u001b[0m\u001b[0;34m\u001b[0m\u001b[0m\n\u001b[1;32m   1666\u001b[0m                                         \u001b[0mwriteSMTtoFile\u001b[0m\u001b[0;34m(\u001b[0m\u001b[0msmt_file_path\u001b[0m\u001b[0;34m,\u001b[0m \u001b[0msmt_assert\u001b[0m\u001b[0;34m(\u001b[0m\u001b[0;32mNone\u001b[0m\u001b[0;34m,\u001b[0m \u001b[0mx_cond\u001b[0m\u001b[0;34m)\u001b[0m\u001b[0;34m)\u001b[0m\u001b[0;34m\u001b[0m\u001b[0;34m\u001b[0m\u001b[0m\n",
      "\u001b[0;32m~/Desktop/Scenic_Query/Scenic/src/scenic/domains/driving/roads.py\u001b[0m in \u001b[0;36mencodeToSMT\u001b[0;34m(self, smt_file_path, cached_variables, debug)\u001b[0m\n\u001b[1;32m    388\u001b[0m         \u001b[0mshapely_polygon\u001b[0m \u001b[0;34m=\u001b[0m \u001b[0mself\u001b[0m\u001b[0;34m.\u001b[0m\u001b[0mpolygon\u001b[0m\u001b[0;34m\u001b[0m\u001b[0;34m\u001b[0m\u001b[0m\n\u001b[1;32m    389\u001b[0m         \u001b[0mpolygonalRegion\u001b[0m \u001b[0;34m=\u001b[0m \u001b[0mregionFromShapelyObject\u001b[0m\u001b[0;34m(\u001b[0m\u001b[0mshapely_polygon\u001b[0m\u001b[0;34m)\u001b[0m\u001b[0;34m\u001b[0m\u001b[0;34m\u001b[0m\u001b[0m\n\u001b[0;32m--> 390\u001b[0;31m         \u001b[0;32mreturn\u001b[0m \u001b[0mpolygonalRegion\u001b[0m\u001b[0;34m.\u001b[0m\u001b[0mencodeToSMT\u001b[0m\u001b[0;34m(\u001b[0m\u001b[0msmt_file_path\u001b[0m\u001b[0;34m,\u001b[0m \u001b[0mcached_variables\u001b[0m\u001b[0;34m,\u001b[0m \u001b[0mdebug\u001b[0m\u001b[0;34m=\u001b[0m\u001b[0mdebug\u001b[0m\u001b[0;34m)\u001b[0m\u001b[0;34m\u001b[0m\u001b[0;34m\u001b[0m\u001b[0m\n\u001b[0m\u001b[1;32m    391\u001b[0m \u001b[0;34m\u001b[0m\u001b[0m\n\u001b[1;32m    392\u001b[0m     \u001b[0;32mdef\u001b[0m \u001b[0mcontains\u001b[0m\u001b[0;34m(\u001b[0m\u001b[0mself\u001b[0m\u001b[0;34m,\u001b[0m \u001b[0msmt_file_path\u001b[0m\u001b[0;34m,\u001b[0m \u001b[0mcached_variables\u001b[0m\u001b[0;34m,\u001b[0m \u001b[0mshapely_point\u001b[0m \u001b[0;34m,\u001b[0m\u001b[0mdebug\u001b[0m \u001b[0;34m=\u001b[0m \u001b[0;32mFalse\u001b[0m\u001b[0;34m)\u001b[0m\u001b[0;34m:\u001b[0m\u001b[0;34m\u001b[0m\u001b[0;34m\u001b[0m\u001b[0m\n",
      "\u001b[0;31mTypeError\u001b[0m: encodeToSMT() missing 1 required positional argument: 'smt_var'"
     ]
    }
   ],
   "source": [
    "\n",
    "from scenic.core.distributions import *\n",
    "from scenic.core.vectors import Vector\n",
    "from scenic.core.regions import SectorRegion\n",
    "import math\n",
    "import subprocess\n",
    "import os\n",
    "\n",
    "\n",
    "# TODO : need to handle jointly dependent objs as well\n",
    "def isPositionValid(obj, label, smt_file_path, ego_info, debug=False, falseTesting=False):\n",
    "    \n",
    "    # TODO : need to handle jointly dependent objs as well\n",
    "    if os.path.isfile(smt_file_path):\n",
    "        os.remove(smt_file_path)\n",
    "    \n",
    "    open(smt_file_path, 'w').close()\n",
    "    writeSMTtoFile(smt_file_path, '(set-logic QF_NRA)')\n",
    "\n",
    "    # Instantiate cached_variables dictionary\n",
    "    cached_variables = {}\n",
    "    cached_variables['variables'] = []\n",
    "    if not falseTesting:\n",
    "        x = label.position.x\n",
    "        y = label.position.y\n",
    "    else:\n",
    "        x = 23.76206016361125\n",
    "        y = -201.16230930976596\n",
    "        \n",
    "    # Create Ego's VisibleRegion\n",
    "    cached_variables['current_obj_pos'] = (x, y)\n",
    "    ego_labelled_position = Vector(x,y)\n",
    "    print(\"sampled position: \"+ str(x)+\" \"+ str(y))\n",
    "    ego_visibleDistance = ego_info['visibleDistance']\n",
    "    ego_viewAngle = ego_info['viewAngle']\n",
    "    ego_labelled_heading = ego_info['headingAngle']\n",
    "    egoVisibleRegion = SectorRegion(ego_labelled_position, ego_visibleDistance, \\\n",
    "                                    ego_labelled_heading, ego_viewAngle)\n",
    "    cached_variables['egoVisibleRegion'] = egoVisibleRegion\n",
    "    \n",
    "    # instantiate smt_var\n",
    "    x_var = findVariableName(smt_file_path, cached_variables, 'x', debug=debug)\n",
    "    y_var = findVariableName(smt_file_path, cached_variables, 'y', debug=debug)\n",
    "    smt_var = (x_var, y_var)\n",
    "    (x_cond, y_cond) = vector_operation_smt(smt_var, \"equal\", (str(x), str(y)))\n",
    "    writeSMTtoFile(smt_file_path, smt_assert(None, x_cond))\n",
    "    writeSMTtoFile(smt_file_path, smt_assert(None, y_cond))\n",
    "    \n",
    "    # Encode object's position to SMT formula\n",
    "    obj.position.encodeToSMT(smt_file_path, cached_variables, smt_var, debug = debug)\n",
    "\n",
    "    writeSMTtoFile(smt_file_path, \"(check-sat)\")\n",
    "    writeSMTtoFile(smt_file_path, \"(exit)\")\n",
    "\n",
    "    if not debug:\n",
    "        if subprocess.call(\"./run_smt_encoding.sh\") == 1:\n",
    "            return True\n",
    "        else:\n",
    "            return False\n",
    "    else:\n",
    "        print(\"DEBUG MODE: NO OUTPUT WILL BE RETURNED\")\n",
    "            \n",
    "    return None\n",
    "\n",
    "\n",
    "ego_visibleDistance = 100 #meters\n",
    "ego_viewAngle = 135 #deg\n",
    "ego_sample = scenario.egoObject.sample()\n",
    "ego_info = {\n",
    "    'visibleDistance' : ego_visibleDistance,\n",
    "    'viewAngle' : math.radians(ego_viewAngle), #radians,\n",
    "    'headingAngle' : ego_sample.heading #radians\n",
    "}\n",
    "\n",
    "smt_file_path = './test_smt_encoding.smt2'\n",
    "resetConditionedObj(scenario)\n",
    "obj = scenario.egoObject\n",
    "label = obj.sample()\n",
    "print(\"label.position: \", label.position)\n",
    "print(isPositionValid(obj, label, smt_file_path, ego_info, debug=False, falseTesting=False))"
   ]
  },
  {
   "cell_type": "code",
   "execution_count": null,
   "metadata": {
    "scrolled": true
   },
   "outputs": [],
   "source": []
  },
  {
   "cell_type": "code",
   "execution_count": null,
   "metadata": {
    "scrolled": true
   },
   "outputs": [],
   "source": [
    "from scenic.core.vectors import Vector\n",
    "[x1, y1] = laneSec.centerline.points[0]\n",
    "[x2, y2] = laneSec.centerline.points[1]\n",
    "pt1 = Vector(x1, y1)\n",
    "pt2 = Vector(x2, y2)\n",
    "math.degrees(pt1.angleTo(pt2))"
   ]
  },
  {
   "cell_type": "code",
   "execution_count": null,
   "metadata": {},
   "outputs": [],
   "source": [
    "(scenario.egoObject.position)"
   ]
  },
  {
   "cell_type": "code",
   "execution_count": null,
   "metadata": {},
   "outputs": [],
   "source": []
  }
 ],
 "metadata": {
  "kernelspec": {
   "display_name": "Python 3",
   "language": "python",
   "name": "python3"
  },
  "language_info": {
   "codemirror_mode": {
    "name": "ipython",
    "version": 3
   },
   "file_extension": ".py",
   "mimetype": "text/x-python",
   "name": "python",
   "nbconvert_exporter": "python",
   "pygments_lexer": "ipython3",
   "version": "3.8.2"
  }
 },
 "nbformat": 4,
 "nbformat_minor": 4
}
