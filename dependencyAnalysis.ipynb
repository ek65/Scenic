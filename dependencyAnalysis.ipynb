{
 "cells": [
  {
   "cell_type": "code",
   "execution_count": 116,
   "metadata": {
    "scrolled": true
   },
   "outputs": [
    {
     "name": "stderr",
     "output_type": "stream",
     "text": [
      "/Users/edwardkim/Desktop/Scenic_Query/Scenic/src/scenic/simulators/carla/model.scenic:56: UserWarning: the \"carla\" package is not installed; will not be able to run dynamic simulations\n",
      "  warnings.warn('the \"carla\" package is not installed; '\n"
     ]
    }
   ],
   "source": [
    "import os\n",
    "import scenic\n",
    "\n",
    "scenic_script = \"./examples/carla/dependencyAnalysisTest5.scenic\"\n",
    "scenario = scenic.scenarioFromFile(scenic_script)"
   ]
  },
  {
   "cell_type": "code",
   "execution_count": 117,
   "metadata": {},
   "outputs": [
    {
     "name": "stdout",
     "output_type": "stream",
     "text": [
      "checkDependenceOnAnotherAttribute attr1_name:  obj1_position\n",
      "checkDependenceOnAnotherAttribute attr2_name:  obj2_position\n",
      "other attr_name in the intersection:  obj0_position\n",
      "len(original_intersection):  3\n",
      "other attr_name in the intersection:  obj0_heading\n",
      "len(original_intersection):  0\n",
      "returns True\n",
      "checkDependenceOnAnotherAttribute attr1_name:  obj1_position\n",
      "checkDependenceOnAnotherAttribute attr2_name:  obj3_position\n",
      "other attr_name in the intersection:  obj0_position\n",
      "len(original_intersection):  3\n",
      "other attr_name in the intersection:  obj0_heading\n",
      "len(original_intersection):  0\n",
      "returns True\n",
      "checkDependenceOnAnotherAttribute attr1_name:  obj2_position\n",
      "checkDependenceOnAnotherAttribute attr2_name:  obj3_position\n",
      "other attr_name in the intersection:  obj0_position\n",
      "len(original_intersection):  3\n",
      "other attr_name in the intersection:  obj0_heading\n",
      "len(original_intersection):  0\n",
      "returns True\n",
      "[['obj0_position'], ['obj0_heading', 'obj1_heading', 'obj2_heading', 'obj3_heading'], ['obj1_position'], ['obj2_position'], ['obj3_position']]\n"
     ]
    }
   ],
   "source": [
    "d = dependencyAnalysis(scenario, ['position', 'heading'])\n",
    "print(sortingDependency(d, scenario))"
   ]
  },
  {
   "cell_type": "code",
   "execution_count": 118,
   "metadata": {},
   "outputs": [],
   "source": [
    "def cacheExprTreeNodes(attribute, nodeSet=None):\n",
    "    \"\"\"cache all the nodes of the input attribute's expression tree to the dictionary\"\"\"\n",
    "    if nodeSet is None:\n",
    "        nodeSet = set()\n",
    "    nodeSet.add(attribute)\n",
    "    if attribute._dependencies == ():\n",
    "        return nodeSet\n",
    "    for dep in attribute._dependencies:\n",
    "        cacheExprTreeNodes(dep, nodeSet)\n",
    "    return nodeSet\n",
    "\n",
    "def cacheAttributes(scenario, attributeList):\n",
    "    dictionary = {}\n",
    "    dictionary['objAttributes_names'] = []\n",
    "    dictionary['objAttributes'] = []\n",
    "    \n",
    "    # cache all object attributes\n",
    "    for i in range(len(scenario.original_objects)):\n",
    "        obj = scenario.original_objects[i]\n",
    "        obj_name = 'obj'+str(i)\n",
    "        dictionary[obj_name] = {}\n",
    "        \n",
    "        for attribute in attributeList:\n",
    "            dictionary[obj_name][attribute] = {}\n",
    "            dictionary[obj_name][attribute]['self'] = getattr(obj, attribute)\n",
    "            dictionary[obj_name][attribute]['set'] = cacheExprTreeNodes(getattr(obj, attribute), None)\n",
    "            dictionary[obj_name][attribute]['dependent_attribute_names'] = []\n",
    "            dictionary[obj_name][attribute]['jointly_dependent_attribute_names'] = []\n",
    "            dictionary[obj_name][attribute]['dependent_attributes_objs'] = set()\n",
    "            dictionary[obj_name][attribute]['jointly_dependent_attributes_objs'] = set()\n",
    "            dictionary['objAttributes_names'].append(obj_name+\"_\"+attribute)\n",
    "            dictionary['objAttributes'].append(getattr(obj, attribute))\n",
    "    return dictionary\n",
    "\n",
    "def checkDependenceOnAnotherAttribute(intersection, attr1_name, attr2_name, dictionary):\n",
    "    \"\"\" checks whether the two attr1 and attr2 are jointly dependent on an intermediate variable\n",
    "    or is both dependent on another attribute. \n",
    "    Output:\n",
    "    True, if attr1 and attr2 are \"dependent\" on another attribute, not intermediate variable\n",
    "    False, attr1 and attr2 are both \"jointly dependent\" on an intermediate variable\n",
    "    \"\"\"\n",
    "    [obj1_name, attr1] = attr1_name.split('_')\n",
    "    attr1_dependent_attrs = dictionary[obj1_name][attr1]['dependent_attributes_objs']\n",
    "    attr1_obj = dictionary[obj1_name][attr1]['self']\n",
    "    [obj2_name, attr2] = attr2_name.split('_')\n",
    "    attr2_dependent_attrs = dictionary[obj2_name][attr2]['dependent_attributes_objs']\n",
    "    attr2_obj = dictionary[obj2_name][attr2]['self']\n",
    "    print(\"checkDependenceOnAnotherAttribute attr1_name: \", attr1_name)\n",
    "    print(\"checkDependenceOnAnotherAttribute attr2_name: \", attr2_name)\n",
    "    original_intersection = intersection\n",
    "    \n",
    "    objAttributes_names = dictionary['objAttributes_names'] \n",
    "    for attr_name in objAttributes_names:\n",
    "        if attr_name == attr1_name or attr_name == attr2_name:\n",
    "            continue\n",
    "        else:\n",
    "            [obj_name, attr] = attr_name.split('_')\n",
    "            attr_obj = dictionary[obj_name][attr]['self']\n",
    "            attr_depSet = dictionary[obj_name][attr]['dependent_attribute_names']\n",
    "            \n",
    "            if attr_obj in original_intersection: \n",
    "                print(\"other attr_name in the intersection: \", attr_name)\n",
    "                attr_cachedSet = dictionary[obj_name][attr]['set']\n",
    "                original_intersection = original_intersection - attr_cachedSet\n",
    "                print(\"len(original_intersection): \", len(original_intersection))\n",
    "                if len(original_intersection) == 0:\n",
    "                    print(\"returns True\")\n",
    "                    # the intersection is another attribute\n",
    "                    return True\n",
    "    return False\n",
    "        \n",
    "def findAttribute(other_attr_obj, attr_dict, dictionary):\n",
    "    for obj_attr in attr_dict['dependent_attribute_names']:\n",
    "        [obj, attr] = obj_attr.split(\"_\")\n",
    "        if other_attr_obj is dictionary[obj][attr]['self']:\n",
    "            return obj_attr\n",
    "    return None\n",
    "    \n",
    "def dependencyAnalysis(scenario, attributeList):\n",
    "    dictionary = cacheAttributes(scenario, attributeList)\n",
    "    dictionary['numberOfObjects'] = len(scenario.original_objects)\n",
    "    objAttributes_names = dictionary['objAttributes_names']\n",
    "    for i in range(len(objAttributes_names)):\n",
    "        for j in range(len(objAttributes_names)):\n",
    "            if i < j:\n",
    "                attr1_name = objAttributes_names[i]\n",
    "                attr2_name = objAttributes_names[j]\n",
    "#                 print(\"attr1_name: \", attr1_name)\n",
    "#                 print(\"attr2_name: \", attr1_name)\n",
    "                [obj_name1, attr1] = attr1_name.split('_')\n",
    "                [obj_name2, attr2] = attr2_name.split('_')\n",
    "                attribute1 = dictionary[obj_name1][attr1]\n",
    "                attribute2 = dictionary[obj_name2][attr2]\n",
    "                attr1_obj = attribute1['self']\n",
    "                attr2_obj = attribute2['self']\n",
    "                \n",
    "                set1 = attribute1['set']\n",
    "                set2 = attribute2['set']\n",
    "                intersection = set1.intersection(set2)\n",
    "                \n",
    "                if attr1_obj in intersection and attr1_obj not in attribute2['dependent_attributes_objs']:\n",
    "                    # attr2_obj is dependent on attr1_obj\n",
    "                    attribute2['dependent_attribute_names'].append(attr1_name)\n",
    "                    attribute2['dependent_attributes_objs'].add(attr1_obj)\n",
    "                elif attr2_obj in intersection and attr2_obj not in attribute1['dependent_attributes_objs']:\n",
    "                    # attr1_obj is dependent on attr2_obj\n",
    "                    attribute1['dependent_attribute_names'].append(attr2_name)\n",
    "                    attribute1['dependent_attributes_objs'].add(attr2_obj)\n",
    "                elif attr1_obj in intersection and attr1_obj in attribute2['dependent_attributes_objs']:\n",
    "                    dependent_obj_attr = findAttribute(attr1_obj, attribute2, dictionary)\n",
    "                    [obj, attr] = dependent_obj_attr.split(\"_\")\n",
    "                    dictionary[obj][attr]['jointly_dependent_attribute_names'].append(attr1_name)\n",
    "                    dictionary[obj][attr]['jointly_dependent_attributes_objs'].add(attr1_obj)\n",
    "                elif attr2_obj in intersection and attr2_obj in attribute1['dependent_attributes_objs']:\n",
    "                    dependent_obj_attr = findAttribute(attr2_obj, attribute1, dictionary)\n",
    "                    [obj, attr] = dependent_obj_attr.split(\"_\")\n",
    "                    dictionary[obj][attr]['jointly_dependent_attribute_names'].append(attr2_name)\n",
    "                    dictionary[obj][attr]['jointly_dependent_attributes_objs'].add(attr2_obj)\n",
    "                elif len(intersection) > 0 and attr1_obj not in intersection and attr2_obj not in intersection \\\n",
    "                    and not checkDependenceOnAnotherAttribute(intersection, attr1_name, attr2_name, dictionary):\n",
    "#                     and attr1_obj not in attribute2['dependent_attributes_objs'] \\\n",
    "#                     and attr2_obj not in attribute1['dependent_attributes_objs'] \\\n",
    "                    # the two attributes are jointly dependent (i.e. share intermediate variable(s))\n",
    "                    attribute1['jointly_dependent_attribute_names'].append(attr2_name)\n",
    "                    attribute2['jointly_dependent_attribute_names'].append(attr1_name)\n",
    "                    attribute1['jointly_dependent_attributes_objs'].add(attr2_obj)\n",
    "                    attribute2['jointly_dependent_attributes_objs'].add(attr1_obj)\n",
    "                else:\n",
    "                    pass\n",
    "    return dictionary\n",
    "\n",
    "def sortingDependency(dictionary, scenario):\n",
    "    output = []\n",
    "    covered_attributes = []\n",
    "    \n",
    "    for elem in dictionary['objAttributes_names']:\n",
    "        if elem in covered_attributes:\n",
    "            continue\n",
    "        covered_attributes.append(elem)\n",
    "        [obj_name, attr_name] = elem.split(\"_\")\n",
    "        joint_dep_set = dictionary[obj_name][attr_name]['jointly_dependent_attribute_names']\n",
    "        if len(joint_dep_set) > 0:\n",
    "            jointly_dependent_list = [elem]\n",
    "            \n",
    "            for j in joint_dep_set:\n",
    "                [j_obj_name, j_attr] = j.split(\"_\")\n",
    "                dep_set = dictionary[j_obj_name][j_attr]['dependent_attribute_names']\n",
    "                \n",
    "                if j not in covered_attributes and len(set(joint_dep_set).intersection(set(dep_set))) == 0:\n",
    "                    jointly_dependent_list.append(j)\n",
    "                    covered_attributes.append(j)\n",
    "            \n",
    "            output.append(jointly_dependent_list)\n",
    "        else:\n",
    "            output.append([elem])\n",
    "    return output"
   ]
  },
  {
   "cell_type": "code",
   "execution_count": 119,
   "metadata": {
    "scrolled": true
   },
   "outputs": [
    {
     "name": "stdout",
     "output_type": "stream",
     "text": [
      "checkDependenceOnAnotherAttribute attr1_name:  obj1_position\n",
      "checkDependenceOnAnotherAttribute attr2_name:  obj2_position\n",
      "other attr_name in the intersection:  obj0_position\n",
      "len(original_intersection):  3\n",
      "other attr_name in the intersection:  obj0_heading\n",
      "len(original_intersection):  0\n",
      "returns True\n",
      "checkDependenceOnAnotherAttribute attr1_name:  obj1_position\n",
      "checkDependenceOnAnotherAttribute attr2_name:  obj3_position\n",
      "other attr_name in the intersection:  obj0_position\n",
      "len(original_intersection):  3\n",
      "other attr_name in the intersection:  obj0_heading\n",
      "len(original_intersection):  0\n",
      "returns True\n",
      "checkDependenceOnAnotherAttribute attr1_name:  obj2_position\n",
      "checkDependenceOnAnotherAttribute attr2_name:  obj3_position\n",
      "other attr_name in the intersection:  obj0_position\n",
      "len(original_intersection):  3\n",
      "other attr_name in the intersection:  obj0_heading\n",
      "len(original_intersection):  0\n",
      "returns True\n",
      "[['obj0_position'], ['obj0_heading', 'obj1_heading', 'obj2_heading', 'obj3_heading'], ['obj1_position'], ['obj2_position'], ['obj3_position']]\n"
     ]
    }
   ],
   "source": [
    "d = dependencyAnalysis(scenario, ['position', 'heading'])\n",
    "print(sortingDependency(d, scenario))"
   ]
  },
  {
   "cell_type": "code",
   "execution_count": 120,
   "metadata": {
    "scrolled": true
   },
   "outputs": [
    {
     "name": "stdout",
     "output_type": "stream",
     "text": [
      "[]\n",
      "[]\n"
     ]
    }
   ],
   "source": [
    "obj_name = 'obj0'\n",
    "attribute = 'position'\n",
    "print(d[obj_name][attribute]['dependent_attribute_names'])\n",
    "print(d[obj_name][attribute]['jointly_dependent_attribute_names'])"
   ]
  },
  {
   "cell_type": "code",
   "execution_count": null,
   "metadata": {
    "scrolled": true
   },
   "outputs": [],
   "source": [
    "\"\"\"\n",
    "keep track of the intermediate variables\n",
    "when you add heading separately, make sure that its position is not dependent on another position...?\n",
    "\"\"\""
   ]
  },
  {
   "cell_type": "code",
   "execution_count": null,
   "metadata": {
    "scrolled": true
   },
   "outputs": [],
   "source": []
  },
  {
   "cell_type": "code",
   "execution_count": null,
   "metadata": {
    "scrolled": true
   },
   "outputs": [],
   "source": []
  },
  {
   "cell_type": "code",
   "execution_count": null,
   "metadata": {},
   "outputs": [],
   "source": [
    "\"\"\"\n",
    "Issue1: ahead/behind, left/right of uses the same heading angle as the referenced\n",
    "        (1) As a result, position & heading are jointly dependent\n",
    "        ==> what if we do not allow joint dependency between position and heading?\n",
    "        This assumes that we can decouple joint dependency between the two, if exists.\n",
    "        Is this true? Yes\n",
    "        ==> Limitation: if many there are many jointly dependent features all at once, it may not be feasible to solve\n",
    "        \n",
    "        (2) an obj can have its position be dependent on its heading because its heading is the same as the \n",
    "        heading of another object to which the obj is depedent\n",
    "        ==> is this only an issue with ego? because the ordering of the objects \n",
    "        ==> ==> solution: just keep the original objects ordering\n",
    "\n",
    "Issue2: my assumption that jointly dependent and dependent relationships are disjoint is wrong\n",
    "        (e.g. dependencyAnalysisTest4.scenic)\n",
    "        ==> it's not possible to capture such case since the attribute contains the intermediate variable\n",
    "        ==> another ordering process needs to be done within jointly dependent features based on dependence relations\n",
    "\n",
    "Issue3: Need to check the case when multiple attributes are dependent on another attributes\n",
    "        (e.g. )\n",
    "        \n",
    "\n",
    "Sorting Approach\n",
    "Since the objects are listed in the order the scenario is written, \n",
    "the order in which SMT translation is to be done stays intact\n",
    "The only issue now is to determine joint dependency\n",
    "==> before adding to joint dependency, check whether the jointly dependent attribute is dependent on any of the\n",
    "other jointly dependent attributes\n",
    "\"\"\""
   ]
  },
  {
   "cell_type": "code",
   "execution_count": null,
   "metadata": {},
   "outputs": [],
   "source": []
  },
  {
   "cell_type": "code",
   "execution_count": null,
   "metadata": {
    "scrolled": true
   },
   "outputs": [],
   "source": []
  },
  {
   "cell_type": "code",
   "execution_count": null,
   "metadata": {
    "scrolled": true
   },
   "outputs": [],
   "source": []
  },
  {
   "cell_type": "code",
   "execution_count": null,
   "metadata": {
    "scrolled": true
   },
   "outputs": [],
   "source": []
  },
  {
   "cell_type": "code",
   "execution_count": null,
   "metadata": {},
   "outputs": [],
   "source": []
  },
  {
   "cell_type": "code",
   "execution_count": null,
   "metadata": {},
   "outputs": [],
   "source": []
  },
  {
   "cell_type": "code",
   "execution_count": null,
   "metadata": {
    "scrolled": true
   },
   "outputs": [],
   "source": []
  },
  {
   "cell_type": "code",
   "execution_count": null,
   "metadata": {
    "scrolled": true
   },
   "outputs": [],
   "source": []
  },
  {
   "cell_type": "code",
   "execution_count": null,
   "metadata": {},
   "outputs": [],
   "source": []
  },
  {
   "cell_type": "code",
   "execution_count": null,
   "metadata": {},
   "outputs": [],
   "source": []
  },
  {
   "cell_type": "code",
   "execution_count": null,
   "metadata": {},
   "outputs": [],
   "source": []
  },
  {
   "cell_type": "code",
   "execution_count": null,
   "metadata": {
    "scrolled": true
   },
   "outputs": [],
   "source": []
  },
  {
   "cell_type": "code",
   "execution_count": null,
   "metadata": {},
   "outputs": [],
   "source": []
  },
  {
   "cell_type": "code",
   "execution_count": null,
   "metadata": {
    "scrolled": true
   },
   "outputs": [],
   "source": []
  },
  {
   "cell_type": "code",
   "execution_count": null,
   "metadata": {},
   "outputs": [],
   "source": []
  },
  {
   "cell_type": "code",
   "execution_count": null,
   "metadata": {},
   "outputs": [],
   "source": []
  },
  {
   "cell_type": "code",
   "execution_count": null,
   "metadata": {
    "scrolled": true
   },
   "outputs": [],
   "source": []
  },
  {
   "cell_type": "code",
   "execution_count": null,
   "metadata": {},
   "outputs": [],
   "source": []
  },
  {
   "cell_type": "code",
   "execution_count": null,
   "metadata": {},
   "outputs": [],
   "source": []
  },
  {
   "cell_type": "code",
   "execution_count": null,
   "metadata": {},
   "outputs": [],
   "source": []
  }
 ],
 "metadata": {
  "kernelspec": {
   "display_name": "Python 3",
   "language": "python",
   "name": "python3"
  },
  "language_info": {
   "codemirror_mode": {
    "name": "ipython",
    "version": 3
   },
   "file_extension": ".py",
   "mimetype": "text/x-python",
   "name": "python",
   "nbconvert_exporter": "python",
   "pygments_lexer": "ipython3",
   "version": "3.8.2"
  }
 },
 "nbformat": 4,
 "nbformat_minor": 4
}
